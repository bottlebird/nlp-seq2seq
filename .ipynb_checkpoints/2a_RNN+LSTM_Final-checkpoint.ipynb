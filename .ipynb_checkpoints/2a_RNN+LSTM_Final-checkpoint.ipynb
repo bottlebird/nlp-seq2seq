{
 "cells": [
  {
   "cell_type": "code",
   "execution_count": 1,
   "metadata": {
    "colab": {
     "base_uri": "https://localhost:8080/",
     "height": 34
    },
    "colab_type": "code",
    "executionInfo": {
     "elapsed": 1621,
     "status": "ok",
     "timestamp": 1587363688159,
     "user": {
      "displayName": "ByeongJo Kong",
      "photoUrl": "https://lh3.googleusercontent.com/a-/AOh14GjB3OJt2FV1VBgbxRHjhh6mK4NBkVW9ONJVSMVJ=s64",
      "userId": "10931837966081205326"
     },
     "user_tz": 240
    },
    "id": "FU7xWiY6TyWS",
    "outputId": "3720b663-e9e5-4f24-b630-91132fe13b65"
   },
   "outputs": [
    {
     "name": "stderr",
     "output_type": "stream",
     "text": [
      "Cloning into '6864-hw2'...\n"
     ]
    }
   ],
   "source": [
    "%%bash\n",
    "!(stat -t /usr/local/lib/*/dist-packages/google/colab > /dev/null 2>&1) && exit \n",
    "rm -rf 6864-hw2\n",
    "git clone https://github.com/lingo-mit/6864-hw2.git"
   ]
  },
  {
   "cell_type": "code",
   "execution_count": 0,
   "metadata": {
    "colab": {},
    "colab_type": "code",
    "id": "A0MHaHrdUACZ"
   },
   "outputs": [],
   "source": [
    "import sys\n",
    "sys.path.append(\"/content/6864-hw2\")\n",
    "\n",
    "import numpy as np\n",
    "import torch\n",
    "import torch.nn as nn\n",
    "\n",
    "device = \"cuda\" if torch.cuda.is_available() else \"cpu\""
   ]
  },
  {
   "cell_type": "markdown",
   "metadata": {
    "colab_type": "text",
    "id": "EyHSnyLuhOYS"
   },
   "source": [
    "# **Introduction**"
   ]
  },
  {
   "cell_type": "markdown",
   "metadata": {
    "colab_type": "text",
    "id": "lsSBIE91TvsS"
   },
   "source": [
    "In this lab, you will explore two types of recurrent architectures to perform sequential classification. Specifically, you are asked to implement and train a vanilla RNN (no gate mechanism) and an LSTM for the task of Name Entity Recognition (NER). For details about NER, you can read [this](https://en.wikipedia.org/wiki/Named-entity_recognition) wikipage.\n",
    "\n",
    "To complete this lab, you need to first understand the recurrent update equations introduced in lecture, and transform them into PyTorch code.\n",
    "\n",
    "In NER, your task is to predict the correct name entity of each word in a sentence.\n",
    "We are going to work with a dataset called MIT-Restaurants. We've helped you preprocessed the data. They now look like this:"
   ]
  },
  {
   "cell_type": "code",
   "execution_count": 3,
   "metadata": {
    "colab": {
     "base_uri": "https://localhost:8080/",
     "height": 136
    },
    "colab_type": "code",
    "executionInfo": {
     "elapsed": 4260,
     "status": "ok",
     "timestamp": 1587363690814,
     "user": {
      "displayName": "ByeongJo Kong",
      "photoUrl": "https://lh3.googleusercontent.com/a-/AOh14GjB3OJt2FV1VBgbxRHjhh6mK4NBkVW9ONJVSMVJ=s64",
      "userId": "10931837966081205326"
     },
     "user_tz": 240
    },
    "id": "ZKNZ5OI2Cztq",
    "outputId": "cca9b34b-c31e-4553-9a95-b23ae46d9fc7"
   },
   "outputs": [
    {
     "name": "stdout",
     "output_type": "stream",
     "text": [
      "Total amount of training samples: 7660\n",
      "Total amount of testing samples: 1521\n",
      "Average sentence length in training data: 9.206919\n",
      "\n",
      "Example:\n",
      "The first sentence is: ['2', 'start', 'restaurants', 'with', 'inside', 'dining']\n",
      "Its corresponding name entity sequence is: ['B-Rating', 'I-Rating', 'O', 'O', 'B-Amenity', 'I-Amenity']\n"
     ]
    }
   ],
   "source": [
    "def read_file(f_name):\n",
    "    data = []\n",
    "    with open(f_name, 'r') as f:\n",
    "        for line in f:\n",
    "            data.append(line.strip().split())\n",
    "    return data\n",
    "\n",
    "train_data = read_file('/content/6864-hw2/train.dat')\n",
    "train_tags = read_file('/content/6864-hw2/train.tag')\n",
    "\n",
    "test_data = read_file('/content/6864-hw2/test.dat')\n",
    "test_tags = read_file('/content/6864-hw2/test.tag')\n",
    "\n",
    "print('Total amount of training samples: %d' % len(train_data))\n",
    "print('Total amount of testing samples: %d' % len(test_data))\n",
    "print('Average sentence length in training data: %f' % (\n",
    "    np.mean([len(sent) for sent in train_data])))\n",
    "\n",
    "print('\\nExample:')\n",
    "print('The first sentence is: ' + str(train_data[0]))\n",
    "print('Its corresponding name entity sequence is: ' + str(train_tags[0]))"
   ]
  },
  {
   "cell_type": "markdown",
   "metadata": {
    "colab_type": "text",
    "id": "Qk6wCHKWTtmC"
   },
   "source": [
    "Here are some helper functions and more data preprocessing before we move on to implementing our models. No code to write in this section but please do understand it as some variables defined here will be used later for training and evaluation. "
   ]
  },
  {
   "cell_type": "code",
   "execution_count": 4,
   "metadata": {
    "colab": {
     "base_uri": "https://localhost:8080/",
     "height": 88
    },
    "colab_type": "code",
    "executionInfo": {
     "elapsed": 385,
     "status": "ok",
     "timestamp": 1587363694621,
     "user": {
      "displayName": "ByeongJo Kong",
      "photoUrl": "https://lh3.googleusercontent.com/a-/AOh14GjB3OJt2FV1VBgbxRHjhh6mK4NBkVW9ONJVSMVJ=s64",
      "userId": "10931837966081205326"
     },
     "user_tz": 240
    },
    "id": "w_RRJxRJmOGv",
    "outputId": "2c705621-05ab-47a4-c707-ce3895c5a02e"
   },
   "outputs": [
    {
     "name": "stdout",
     "output_type": "stream",
     "text": [
      "Number of word types, including 'UNK': 3805\n",
      "Number of tag types: 17\n",
      "These are the tag types: ['I-Dish', 'I-Amenity', 'B-Cuisine', 'B-Restaurant_Name', 'B-Rating', 'I-Price', 'B-Dish', 'B-Location', 'I-Restaurant_Name', 'O', 'B-Amenity', 'I-Hours', 'I-Cuisine', 'B-Hours', 'B-Price', 'I-Location', 'I-Rating']\n"
     ]
    }
   ],
   "source": [
    "# From train data, collect all unique word types as a set and add 'UNK' to it.\n",
    "# Unseen words in test data will be turned into 'UNK'.\n",
    "vocab_set = list(set([word for sent in train_data for word in sent])) + ['UNK']\n",
    "num_vocabs = len(vocab_set)\n",
    "print(\"Number of word types, including 'UNK': %d\" % num_vocabs)\n",
    "\n",
    "# Assign each word type an unique id.\n",
    "vocab2id = {v : i for i, v in enumerate(vocab_set)}\n",
    "\n",
    "\n",
    "# We also collect all tag (class) types and assign an unique id to each of them.\n",
    "# There won't be unseen tag type in test data.\n",
    "tag_set = list(set([tag for tag_seq in train_tags for tag in tag_seq]))\n",
    "num_tags = len(tag_set)\n",
    "print(\"Number of tag types: %d\" % num_tags)\n",
    "print('These are the tag types: ' + str(tag_set))\n",
    "\n",
    "tag2id = {t : i for i, t in enumerate(tag_set)}\n",
    "# Inverse dictionary of tag2id, you will need this during evaluation!\n",
    "id2tag = {i : t for t, i in tag2id.items()}"
   ]
  },
  {
   "cell_type": "markdown",
   "metadata": {
    "colab_type": "text",
    "id": "Co90EmqjxABh"
   },
   "source": [
    "Now that you have understood what raw data look like, it's your turn to transform them into the format that our model actually takes as input: one-hot encoding. Hint: in tag_to_id function, the B-I-O refers to beginning, inside and outside. Each of them means the beginning of the tagging chunk, inside the tagging chunk and outside the tagging chunk. For more detailed explanation, please refer to the IOB2 format in [this](https://en.wikipedia.org/wiki/Inside%E2%80%93outside%E2%80%93beginning_(tagging)) wikipage."
   ]
  },
  {
   "cell_type": "code",
   "execution_count": 5,
   "metadata": {
    "colab": {
     "base_uri": "https://localhost:8080/",
     "height": 85
    },
    "colab_type": "code",
    "executionInfo": {
     "elapsed": 2586,
     "status": "ok",
     "timestamp": 1587363698027,
     "user": {
      "displayName": "ByeongJo Kong",
      "photoUrl": "https://lh3.googleusercontent.com/a-/AOh14GjB3OJt2FV1VBgbxRHjhh6mK4NBkVW9ONJVSMVJ=s64",
      "userId": "10931837966081205326"
     },
     "user_tz": 240
    },
    "id": "1kPRWdKkwdnf",
    "outputId": "ad8c3835-110f-4cb2-9b80-06c6ebb54cfa"
   },
   "outputs": [
    {
     "name": "stdout",
     "output_type": "stream",
     "text": [
      "First sentence has shape: torch.Size([6, 3805])\n",
      "Fifth sentence has shape: torch.Size([12, 3805])\n",
      "first tag sequence has shape: 6\n",
      "Fifth tag sequence has shape: 12\n"
     ]
    }
   ],
   "source": [
    "def one_hot_encoding(sent, vocab2id):\n",
    "    # Example input `sent` (a list of words):\n",
    "    # ['2', 'start', 'restaurants', 'with', 'inside', 'dining']\n",
    "\n",
    "    one_hot = torch.zeros(len(sent), len(vocab2id))\n",
    "\n",
    "    # Your code here!\n",
    "    for i, word in enumerate(sent):\n",
    "        if word not in vocab2id:\n",
    "            word='UNK'\n",
    "        index = vocab2id[word]\n",
    "        one_hot[i,index] = 1\n",
    "    return one_hot\n",
    "\n",
    "def tag_to_id(tag_seq, tag2id):\n",
    "    # Example input `tag_seq` (a list of tags):\n",
    "    # ['B-Rating', 'I-Rating', 'O', 'O', 'B-Amenity', 'I-Amenity']\n",
    "\n",
    "    id_seq = torch.zeros(len(tag_seq), dtype=torch.long)\n",
    "    # Your code here!\n",
    "    for i, tag in enumerate(tag_seq):\n",
    "        id_seq[i] = tag2id[tag]\n",
    "    return id_seq\n",
    "\n",
    "\n",
    "# Apply one-hot encoding to data.\n",
    "train_data_oh_list = [one_hot_encoding(sent, vocab2id) for sent in train_data]\n",
    "# Transform tag names into ids.\n",
    "train_tags_id_list = [tag_to_id(tag_seq, tag2id) for tag_seq in train_tags]\n",
    "\n",
    "# train_data_oh_list should now be a list of 2d-tensors, each has shape (sent_len, num_vocabs)\n",
    "# Note that to utilize the `shape` attribute, each element in the list should\n",
    "# already be a torch tensor.\n",
    "print(\"First sentence has shape: %s\" % str(train_data_oh_list[0].shape))\n",
    "print(\"Fifth sentence has shape: %s\" % str(train_data_oh_list[4].shape))\n",
    "# train_tags_id_list is a list of 1d-tensors, each that has shape (sent_len,)\n",
    "print(\"first tag sequence has shape: %s\" % train_tags_id_list[0].shape)\n",
    "print(\"Fifth tag sequence has shape: %s\" % train_tags_id_list[4].shape)\n",
    "\n",
    "\n",
    "# Apply same conversion to test dataset.\n",
    "test_data_oh_list = [one_hot_encoding(sent, vocab2id) for sent in test_data]\n",
    "test_tags_id_list = [tag_to_id(tag_seq, tag2id) for tag_seq in test_tags]"
   ]
  },
  {
   "cell_type": "markdown",
   "metadata": {
    "colab_type": "text",
    "id": "64AfhgX35gL3"
   },
   "source": [
    "# **Part 1: Recurrent Neural Network (RNN)**\n",
    "\n",
    "In this part, you will implement a vanilla RNN. You are not allowed to use the PyTorch built-in RNN/RNNCell modules--you will have to implement the update rules yourself. Please follow the formulation introduced in lecture."
   ]
  },
  {
   "cell_type": "code",
   "execution_count": 0,
   "metadata": {
    "colab": {},
    "colab_type": "code",
    "id": "l7j9a_UYLfTl"
   },
   "outputs": [],
   "source": [
    "class RNN(nn.Module):\n",
    "    # A torch module implementing an RNN. The `forward` function should just\n",
    "    # perform one step of update and output logits before softmax.\n",
    "\n",
    "    #rnn_model = RNN(input_size=num_vocabs, hidden_size=128,output_size=num_tags)\n",
    "    def __init__(self, input_size, hidden_size, output_size):\n",
    "        super(RNN, self).__init__()\n",
    "        # `input_size`, `hidden_size`, and `output_size` are all int.\n",
    "        print(\"RNN initializing - input size:\",input_size,\"hidden_size:\", hidden_size,\"output size:\", output_size)\n",
    "        self.input_size = input_size\n",
    "        self.hidden_size = hidden_size\n",
    "        self.output_size = output_size\n",
    "\n",
    "        # Your code here!\n",
    "        self.i2h = nn.Linear(input_size + hidden_size, hidden_size)\n",
    "        self.i2o = nn.Linear(input_size + hidden_size, output_size)\n",
    "        #self.softmax = nn.LogSoftmax(dim=1)\n",
    "\n",
    "    def forward(self, input, hidden):\n",
    "        # `input` is a 2d-tensor of shape (1, input_size); `hidden` is another\n",
    "        # 2d-tensor of shape (1, hidden_size), representing the hidden state of\n",
    "        # the previous time step.\n",
    "\n",
    "        # Your code here!\n",
    "        #outputs=torch.zeros(input.size()[0],num_tags)\n",
    "        outputs=[]\n",
    "        for word in input:\n",
    "            word = word.view(1,-1)\n",
    "            combined = torch.cat((word, hidden), 1)\n",
    "            hidden = self.i2h(combined)\n",
    "            output = self.i2o(combined)\n",
    "            #outputs=output if word==0 else torch.cat((outputs,output),0)\n",
    "            outputs.append(output)\n",
    "        outputs = torch.cat(outputs)\n",
    "\n",
    "        return outputs, hidden\n",
    "\n",
    "    def initHidden(self):\n",
    "        # Use to initialize hidden state everytime before running a sentence.\n",
    "        return torch.zeros(1, self.hidden_size)\n",
    "    "
   ]
  },
  {
   "cell_type": "markdown",
   "metadata": {
    "colab_type": "text",
    "id": "9O9r0TTw9A7Y"
   },
   "source": [
    "Now that you have defined your RNN model, we can start training it. We've provided the main training loop, but you will have to implement the fucntion `rnn_train_one_sample`, which takes a (sentence-tensor, tag-tensor)-pair as input and does one step of gradient update. To understand better what this function is supposed to do, you can go over the main training loop in the next section first."
   ]
  },
  {
   "cell_type": "code",
   "execution_count": 0,
   "metadata": {
    "colab": {
     "base_uri": "https://localhost:8080/",
     "height": 51
    },
    "colab_type": "code",
    "executionInfo": {
     "elapsed": 433,
     "status": "ok",
     "timestamp": 1587245870512,
     "user": {
      "displayName": "ByeongJo Kong",
      "photoUrl": "https://lh3.googleusercontent.com/a-/AOh14GjB3OJt2FV1VBgbxRHjhh6mK4NBkVW9ONJVSMVJ=s64",
      "userId": "10931837966081205326"
     },
     "user_tz": 240
    },
    "id": "HF0KIrIIkp9u",
    "outputId": "df6e10a8-ac3d-4bcb-ae35-f4f46bfa29a5"
   },
   "outputs": [
    {
     "name": "stdout",
     "output_type": "stream",
     "text": [
      "RNN initializing - input size: 3805 hidden_size: 128 output size: 17\n"
     ]
    },
    {
     "data": {
      "text/plain": [
       "570430"
      ]
     },
     "execution_count": 18,
     "metadata": {
      "tags": []
     },
     "output_type": "execute_result"
    }
   ],
   "source": [
    "learning_rate = 1e-3\n",
    "rnn_hidden_size = 128\n",
    "\n",
    "rnn_model = RNN(input_size=num_vocabs, hidden_size=rnn_hidden_size,\n",
    "                output_size=num_tags).to(device)\n",
    "\n",
    "criterion = nn.CrossEntropyLoss()\n",
    "rnn_optimizer = torch.optim.Adam(rnn_model.parameters(), lr=learning_rate)\n",
    "\n",
    "\n",
    "def rnn_train_one_sample(model, sent_tensor, tag_tensor):\n",
    "    # Run through a sentence, generate output, compute loss, and perform one\n",
    "    # gradient update. Sentence and tag are represented as a 2d-tensor\n",
    "    # `sent_tensor` and a 1d-tensor `tag_tensor`, respectively.\n",
    "\n",
    "    # Initialize hidden state.\n",
    "    hidden = model.initHidden().to(device)\n",
    "    loss_fn = nn.CrossEntropyLoss()\n",
    "    \n",
    "    # Your code here!\n",
    "    outputs, hidden = model(sent_tensor,hidden)\n",
    "    loss = loss_fn(outputs, tag_tensor)\n",
    "    rnn_optimizer.zero_grad()\n",
    "    loss.backward()\n",
    "\n",
    "    total_norm=0\n",
    "    torch.nn.utils.clip_grad_norm_(model.parameters(), 5)\n",
    "    for p in list(filter(lambda p: p.grad is not None, model.parameters())):\n",
    "      p.data.add_(-learning_rate, p.grad.data)\n",
    "      param_norm = p.grad.data.norm(2)\n",
    "      total_norm += param_norm.item()\n",
    "\n",
    "    rnn_optimizer.step()\n",
    "\n",
    "    return outputs, loss.item(), total_norm\n",
    "\n",
    "def count_parameters(model):\n",
    "  return sum(p.numel() for p in model.parameters() if p.requires_grad)\n",
    "\n",
    "count_parameters(rnn_model)"
   ]
  },
  {
   "cell_type": "markdown",
   "metadata": {
    "colab_type": "text",
    "id": "D8o1dpsnBymS"
   },
   "source": [
    "Here's the main training loop for training RNN:"
   ]
  },
  {
   "cell_type": "code",
   "execution_count": 0,
   "metadata": {
    "colab": {
     "base_uri": "https://localhost:8080/",
     "height": 935
    },
    "colab_type": "code",
    "executionInfo": {
     "elapsed": 339101,
     "status": "ok",
     "timestamp": 1587246211462,
     "user": {
      "displayName": "ByeongJo Kong",
      "photoUrl": "https://lh3.googleusercontent.com/a-/AOh14GjB3OJt2FV1VBgbxRHjhh6mK4NBkVW9ONJVSMVJ=s64",
      "userId": "10931837966081205326"
     },
     "user_tz": 240
    },
    "id": "1OuwfUHyrWzC",
    "outputId": "af3d52ac-294e-479e-c6b1-ab14e601a1ec"
   },
   "outputs": [
    {
     "name": "stdout",
     "output_type": "stream",
     "text": [
      "0 0m 0s 2.8366 0.8838\n",
      "1000 0m 7s 2.4740 2.4857\n",
      "2000 0m 13s 1.0297 1.8103\n",
      "3000 0m 19s 1.8461 3.0068\n",
      "4000 0m 26s 1.4826 3.7648\n",
      "5000 0m 33s 0.4078 1.1097\n",
      "6000 0m 39s 0.5477 3.6002\n",
      "7000 0m 45s 1.0326 3.0448\n",
      "8000 0m 51s 0.4011 2.0230\n",
      "9000 0m 58s 1.4614 2.8752\n",
      "10000 1m 4s 0.3521 1.2726\n",
      "11000 1m 10s 0.4501 1.8401\n",
      "12000 1m 17s 0.2036 1.0257\n",
      "13000 1m 23s 0.6788 2.8392\n",
      "14000 1m 30s 0.0649 0.3802\n",
      "15000 1m 36s 0.9253 5.4444\n",
      "16000 1m 42s 0.5629 3.5442\n",
      "17000 1m 48s 0.1023 0.7765\n",
      "18000 1m 54s 0.3722 2.7515\n",
      "19000 2m 1s 0.1567 1.3128\n",
      "20000 2m 8s 1.1679 4.4329\n",
      "21000 2m 14s 0.1665 1.1334\n",
      "22000 2m 20s 0.5649 2.9375\n",
      "23000 2m 26s 0.5440 1.9684\n",
      "24000 2m 33s 0.0476 0.3676\n",
      "25000 2m 39s 0.0743 0.6435\n",
      "26000 2m 45s 0.3209 1.8747\n",
      "27000 2m 52s 0.1414 1.3422\n",
      "28000 2m 58s 0.0778 0.5667\n",
      "29000 3m 4s 1.6507 3.3617\n",
      "30000 3m 10s 0.0909 0.5945\n",
      "31000 3m 16s 0.0154 0.1715\n",
      "32000 3m 23s 0.0414 0.2799\n",
      "33000 3m 29s 0.1793 2.0567\n",
      "34000 3m 36s 0.1219 1.3270\n",
      "35000 3m 42s 0.3747 4.9746\n",
      "36000 3m 49s 0.0994 1.2812\n",
      "37000 3m 55s 0.1604 1.4177\n",
      "38000 4m 1s 0.2317 2.0071\n",
      "39000 4m 7s 0.0635 0.4847\n",
      "40000 4m 13s 0.9601 3.5127\n",
      "41000 4m 19s 0.1066 1.3944\n",
      "42000 4m 26s 0.2779 2.4157\n",
      "43000 4m 32s 0.0178 0.0626\n",
      "44000 4m 39s 0.0517 0.6386\n",
      "45000 4m 45s 0.4032 2.4908\n",
      "46000 4m 50s 0.5413 2.4154\n",
      "47000 4m 57s 1.0339 1.0672\n",
      "48000 5m 3s 0.3739 5.7692\n",
      "49000 5m 10s 0.0834 1.0296\n",
      "50000 5m 16s 0.1374 1.0063\n",
      "51000 5m 22s 0.6722 4.7023\n",
      "52000 5m 29s 0.2908 2.8058\n",
      "53000 5m 35s 0.0644 0.7380\n"
     ]
    }
   ],
   "source": [
    "import time\n",
    "import math\n",
    "from matplotlib import pyplot as plt\n",
    "\n",
    "\n",
    "n_epochs = 7\n",
    "iter_count = 0\n",
    "print_every = 1000\n",
    "plot_every = 50\n",
    "\n",
    "# Keep track of losses for plotting\n",
    "current_loss = 0\n",
    "current_norm = 0\n",
    "all_losses = []\n",
    "all_norms = []\n",
    "\n",
    "def timeSince(since):\n",
    "    now = time.time()\n",
    "    s = now - since\n",
    "    m = math.floor(s / 60)\n",
    "    s -= m * 60\n",
    "    return '%dm %ds' % (m, s)\n",
    "\n",
    "start = time.time()\n",
    "\n",
    "rnn_model.train()\n",
    "for epoch_i in range(n_epochs):\n",
    "    for sent_tensor, tag_tensor in zip(train_data_oh_list, train_tags_id_list):\n",
    "        sent_tensor = sent_tensor.to(device)\n",
    "        tag_tensor = tag_tensor.to(device)\n",
    "  \n",
    "        output, loss, norm = rnn_train_one_sample(rnn_model, sent_tensor, tag_tensor)\n",
    "        current_loss += loss\n",
    "        current_norm += norm\n",
    "\n",
    "        if iter_count % print_every == 0:\n",
    "            print('%d %s %.4f %.4f' % (iter_count, timeSince(start), loss, norm))\n",
    "\n",
    "        # Add current loss avg to list of losses\n",
    "        if iter_count % plot_every == 0 and iter_count > 0:\n",
    "            all_losses.append(current_loss / plot_every)\n",
    "            all_norms.append(current_norm / plot_every)\n",
    "            current_loss = 0\n",
    "            current_norm = 0\n",
    "\n",
    "        iter_count += 1"
   ]
  },
  {
   "cell_type": "markdown",
   "metadata": {
    "colab_type": "text",
    "id": "bzGil8wxCS8X"
   },
   "source": [
    "Now let's plot the learning curve. The x-axis is the training iterations and the y-axis is the training loss. The loss should be going down."
   ]
  },
  {
   "cell_type": "code",
   "execution_count": 0,
   "metadata": {
    "colab": {
     "base_uri": "https://localhost:8080/",
     "height": 667
    },
    "colab_type": "code",
    "executionInfo": {
     "elapsed": 1551,
     "status": "ok",
     "timestamp": 1587189997814,
     "user": {
      "displayName": "ByeongJo Kong",
      "photoUrl": "https://lh3.googleusercontent.com/a-/AOh14GjB3OJt2FV1VBgbxRHjhh6mK4NBkVW9ONJVSMVJ=s64",
      "userId": "10931837966081205326"
     },
     "user_tz": 240
    },
    "id": "UY0oyFUeLuEu",
    "outputId": "014fd4cb-92ef-45e0-9988-98e301543971"
   },
   "outputs": [
    {
     "data": {
      "text/plain": [
       "<matplotlib.legend.Legend at 0x7ff67a24f2b0>"
      ]
     },
     "execution_count": 25,
     "metadata": {
      "tags": []
     },
     "output_type": "execute_result"
    },
    {
     "data": {
      "image/png": "[encoded data removed]",
      "text/plain": [
       "<Figure size 432x288 with 1 Axes>"
      ]
     },
     "metadata": {
      "needs_background": "light",
      "tags": []
     },
     "output_type": "display_data"
    },
    {
     "data": {
      "image/png": "[encoded data removed]",
      "text/plain": [
       "<Figure size 576x432 with 1 Axes>"
      ]
     },
     "metadata": {
      "needs_background": "light",
      "tags": []
     },
     "output_type": "display_data"
    }
   ],
   "source": [
    "import matplotlib.pyplot as plt\n",
    "import matplotlib.ticker as ticker\n",
    "\n",
    "plt.figure()\n",
    "plt.xlabel('train')\n",
    "plt.ylabel('losses')\n",
    "plt.plot(all_losses)\n",
    "\n",
    "#plt.figure()\n",
    "#plt.xlabel('train')\n",
    "#plt.ylabel('gradients')\n",
    "#plt.plot(all_norms)\n",
    "\n",
    "plt.figure(figsize=(8, 6))\n",
    "plt.xlabel('epoch')\n",
    "plt.ylabel('loss / grad norm')\n",
    "plt.plot(all_losses, 'b', label=\"loss\")\n",
    "plt.plot(all_norms, 'r', label=\"gradient norm\")\n",
    "plt.legend()"
   ]
  },
  {
   "cell_type": "markdown",
   "metadata": {
    "colab_type": "text",
    "id": "0Q8Hxy-7C8xB"
   },
   "source": [
    "Now that we have trained our RNN, it's time to evaluate it on the test set."
   ]
  },
  {
   "cell_type": "code",
   "execution_count": 0,
   "metadata": {
    "colab": {
     "base_uri": "https://localhost:8080/",
     "height": 34
    },
    "colab_type": "code",
    "executionInfo": {
     "elapsed": 5489,
     "status": "ok",
     "timestamp": 1587246278260,
     "user": {
      "displayName": "ByeongJo Kong",
      "photoUrl": "https://lh3.googleusercontent.com/a-/AOh14GjB3OJt2FV1VBgbxRHjhh6mK4NBkVW9ONJVSMVJ=s64",
      "userId": "10931837966081205326"
     },
     "user_tz": 240
    },
    "id": "X6R9rSlTlLTf",
    "outputId": "68e3099c-a8be-437c-e30f-4005f3a87376"
   },
   "outputs": [
    {
     "data": {
      "text/plain": [
       "(0.7289994438269046, 0.7349740686162676, 0.7244891105042021)"
      ]
     },
     "execution_count": 24,
     "metadata": {
      "tags": []
     },
     "output_type": "execute_result"
    }
   ],
   "source": [
    "# Evaluation\n",
    "\n",
    "import sklearn\n",
    "from sklearn.metrics import precision_recall_fscore_support\n",
    "\n",
    "\n",
    "def evaluate_result(true_tag_list, predicted_tag_list):\n",
    "    # Example: true_tag_list/predicted_tag_list:\n",
    "    #   [[‘O’, ‘O’, ‘I’, ‘N’, ...]\n",
    "    #    [‘I’, ‘I’, ‘O’, ‘N’, ...]],\n",
    "    # each sublist corresponds to an input sentence.\n",
    "    p_list = []\n",
    "    r_list = []\n",
    "    f1_list = []\n",
    "    for true_tag, predicted_tag in zip(true_tag_list, predicted_tag_list):\n",
    "        p, r, f1, _ = precision_recall_fscore_support(true_tag, predicted_tag,\n",
    "                                                      average='macro',\n",
    "                                                      zero_division=0)\n",
    "        p_list.append(p)\n",
    "        r_list.append(r)\n",
    "        f1_list.append(f1)\n",
    "    \n",
    "    return np.mean(p_list), np.mean(r_list), np.mean(f1_list)\n",
    "\n",
    "# Make prediction for one sentence.\n",
    "def rnn_predict_one_sent(model, sent_tensor):\n",
    "    hidden = model.initHidden().to(device)\n",
    "\n",
    "    predicted_tag_id = None\n",
    "    # Your code here!\n",
    "    outputs, hidden = model(sent_tensor,hidden)\n",
    "    predicted_tag_id = outputs.topk(1)[1]\n",
    "                               \n",
    "    return predicted_tag_id\n",
    "\n",
    "rnn_model.eval()\n",
    "predicted_tags = []\n",
    "for sent_tensor in test_data_oh_list:\n",
    "    sent_tensor = sent_tensor.to(device)\n",
    "    predicted_tag_id = rnn_predict_one_sent(rnn_model, sent_tensor)\n",
    "    predicted_tags.append([id2tag[idx] for idx in predicted_tag_id.detach()[:,0].cpu().numpy()])\n",
    "\n",
    "# Will output precision, recall, and f1 score.\n",
    "evaluate_result(test_tags, predicted_tags)"
   ]
  },
  {
   "cell_type": "markdown",
   "metadata": {
    "colab_type": "text",
    "id": "Y3uM___pcp0j"
   },
   "source": [
    "## **Part 1: Lab writeup**\n",
    "\n",
    "Part 1 of your lab report should discuss any implementation details that were important to filling out the code above. Then, use the code to set up experiments that answer the following questions:\n",
    "\n",
    "1. Compute the gradient norm of all trainable parameters along the training. Plot a figure similar to what we did for training loss (x-axis is training iterations and y-axis is avg. gradient norm value). Describe what you find. Hint: gradient norm is the L2 norm of of the gradient vector.\n",
    "\n",
    "2. Try to do learning with gradient clipping. Why should we use gradient clipping? What is the effect of gradient clipping? Could we use larger learning rate after gradient clipping? Why? Hint: use torch.nn.utils.clip_grad_norm(model.parameters(), clip) after loss.backward(). You can try various clipping range. A good starting point is clip = 5."
   ]
  },
  {
   "cell_type": "markdown",
   "metadata": {
    "colab_type": "text",
    "id": "EuutnMvlxltt"
   },
   "source": [
    "# **Part 2: Long Short-Term Memory (LSTM)**\n",
    "\n",
    "In part 2, you will implement your own LSTM. Same in part 1, you are not allowed to use PyTorch built-in LSTM/LSTMCell modules. For reference, you can look up the wikipage for the [LSTM architecture](https://en.wikipedia.org/wiki/Long_short-term_memory)."
   ]
  },
  {
   "cell_type": "code",
   "execution_count": 0,
   "metadata": {
    "colab": {},
    "colab_type": "code",
    "id": "LTBM91nqfkA4"
   },
   "outputs": [],
   "source": [
    "class LSTM(nn.Module):\n",
    "    # A torch module implementing an LSTM. The `forward` function should just\n",
    "    # perform one step of update and output logits before softmax.\n",
    "\n",
    "    def __init__(self, input_size, hidden_size, output_size):\n",
    "        super(LSTM, self).__init__()\n",
    "\n",
    "        # Your code here!\n",
    "        self.input_size = input_size\n",
    "        self.hidden_size = hidden_size\n",
    "        self.output_size = output_size\n",
    "        self.sigmoid = nn.Sigmoid()\n",
    "        self.tanh = nn.Tanh()\n",
    "    \n",
    "        self.ih2g = nn.Linear(input_size + hidden_size, hidden_size)\n",
    "        #self.h2h = nn.Linear(input_size + hidden_size, output_size)\n",
    "        self.output = nn.Linear(hidden_size, output_size)\n",
    "\n",
    "    def forward(self, input, hidden, memory):\n",
    "        # `input` is a 2d-tensor of shape (1, input_size);\n",
    "        # `hidden` and `memory` are both 2d-tensors of shape (1, hidden_size),\n",
    "        # representing the hidden and memory states of the previous time step.\n",
    "\n",
    "        output = None\n",
    "        memory = None\n",
    "        # Your code here!\n",
    "        combined = torch.cat((input, hidden), 1) #v=[v1;v2;..;vn]truncated vector\n",
    "        gates = self.ih2g(combined) #h=f(v) hidden layer\n",
    "        \n",
    "        f_gate = self.sigmoid(gates)\n",
    "        i_gate = self.sigmoid(gates)\n",
    "        c_gate = self.tanh(gates)\n",
    "        o_gate = self.sigmoid(gates)\n",
    "        \n",
    "        memory = (f_gate * hidden) + (i_gate * c_gate)\n",
    "        hidden = o_gate * self.tanh(memory)\n",
    "        output = self.output(hidden)\n",
    "\n",
    "        return output, hidden, memory\n",
    "\n",
    "    def initHidden(self):\n",
    "        # Initialize hidden and memory states.\n",
    "        return (torch.zeros(1, self.hidden_size),\n",
    "                torch.zeros(1, self.hidden_size))"
   ]
  },
  {
   "cell_type": "markdown",
   "metadata": {
    "colab_type": "text",
    "id": "Ed2Mt5o5hoqh"
   },
   "source": [
    "Same with part 1, we provide the main training loop for training LSTM, but you will need to implement the `lstm_train_one_sample` function, and also apply gradient clipping."
   ]
  },
  {
   "cell_type": "code",
   "execution_count": 0,
   "metadata": {
    "colab": {},
    "colab_type": "code",
    "id": "sNn7sBQffs-4"
   },
   "outputs": [],
   "source": [
    "learning_rate = 1e-3\n",
    "lstm_hidden_size = 126\n",
    "\n",
    "lstm_model = LSTM(input_size=num_vocabs, hidden_size=lstm_hidden_size,\n",
    "                  output_size=num_tags).to(device)\n",
    "\n",
    "criterion = nn.CrossEntropyLoss()\n",
    "lstm_optimizer = torch.optim.Adam(lstm_model.parameters(),  lr=learning_rate)\n",
    "\n",
    "def lstm_train_one_sample(model, sent_tensor, tag_tensor):\n",
    "    hidden, memory = model.initHidden()\n",
    "    hidden = hidden.to(device)\n",
    "    memory = memory.to(device)\n",
    "    # Your code here!\n",
    "    outputs=[]\n",
    "    for word in sent_tensor:\n",
    "      word = word.view(1,-1)\n",
    "      #tag = tag.view(1)\n",
    "      output, hidden, memory = model(word, hidden, memory) #v=[v1;v2;..;vn]truncated vector\n",
    "      outputs.append(output)\n",
    "    outputs=torch.cat(outputs)\n",
    "    loss = criterion(outputs, tag_tensor)\n",
    "    \n",
    "    total_norm=0\n",
    "    torch.nn.utils.clip_grad_norm_(model.parameters(), 5)\n",
    "    for p in list(filter(lambda p: p.grad is not None, model.parameters())):\n",
    "      p.data.add_(-learning_rate, p.grad.data)\n",
    "      param_norm = p.grad.data.norm(2)\n",
    "      total_norm += param_norm.item()\n",
    "\n",
    "    lstm_optimizer.zero_grad()\n",
    "    loss.backward()\n",
    "    lstm_optimizer.step()\n",
    "\n",
    "    return outputs, loss.item(), total_norm\n",
    "  "
   ]
  },
  {
   "cell_type": "markdown",
   "metadata": {
    "colab_type": "text",
    "id": "WRN8XcIojx6g"
   },
   "source": [
    "LSTM main training loop:"
   ]
  },
  {
   "cell_type": "code",
   "execution_count": 0,
   "metadata": {
    "colab": {
     "base_uri": "https://localhost:8080/",
     "height": 680
    },
    "colab_type": "code",
    "executionInfo": {
     "elapsed": 433680,
     "status": "ok",
     "timestamp": 1587246715922,
     "user": {
      "displayName": "ByeongJo Kong",
      "photoUrl": "https://lh3.googleusercontent.com/a-/AOh14GjB3OJt2FV1VBgbxRHjhh6mK4NBkVW9ONJVSMVJ=s64",
      "userId": "10931837966081205326"
     },
     "user_tz": 240
    },
    "id": "KKzhbwW0q5to",
    "outputId": "c7901c18-ea6a-468f-a11a-f91d12ee6a71"
   },
   "outputs": [
    {
     "name": "stdout",
     "output_type": "stream",
     "text": [
      "0 0m 0s 2.8515 0.0000\n",
      "1000 0m 12s 2.9611 2.5070\n",
      "2000 0m 22s 0.9583 1.5557\n",
      "3000 0m 34s 1.9969 1.1278\n",
      "4000 0m 47s 1.4096 3.2894\n",
      "5000 0m 58s 0.2675 1.6835\n",
      "6000 1m 9s 0.4174 1.8621\n",
      "7000 1m 20s 0.9818 2.2132\n",
      "8000 1m 30s 0.3853 0.8569\n",
      "9000 1m 42s 0.9712 2.0217\n",
      "10000 1m 53s 0.3019 2.3079\n",
      "11000 2m 5s 0.5288 3.6563\n",
      "12000 2m 17s 0.0675 4.5370\n",
      "13000 2m 29s 0.0940 6.0541\n",
      "14000 2m 40s 0.0372 2.3496\n",
      "15000 2m 50s 1.0763 0.8236\n",
      "16000 3m 1s 0.3077 0.1220\n",
      "17000 3m 12s 0.0216 4.1258\n",
      "18000 3m 24s 0.0813 0.0787\n",
      "19000 3m 36s 0.0177 0.5643\n",
      "20000 3m 48s 1.1410 0.4397\n",
      "21000 3m 59s 0.1255 2.1625\n",
      "22000 4m 10s 0.4770 0.7548\n",
      "23000 4m 20s 0.1624 2.7715\n",
      "24000 4m 32s 0.0129 1.5916\n",
      "25000 4m 43s 0.0408 0.0901\n",
      "26000 4m 55s 0.4559 0.3544\n",
      "27000 5m 7s 0.0270 0.2385\n",
      "28000 5m 18s 0.0114 2.2783\n",
      "29000 5m 29s 1.6438 1.6022\n",
      "30000 5m 40s 0.0299 0.1930\n",
      "31000 5m 51s 0.0145 0.1916\n",
      "32000 6m 2s 0.0093 0.1611\n",
      "33000 6m 13s 0.0657 3.6554\n",
      "34000 6m 25s 0.0708 0.8916\n",
      "35000 6m 37s 0.2843 0.2840\n",
      "36000 6m 48s 0.0565 2.8021\n",
      "37000 6m 59s 0.1168 1.1972\n",
      "38000 7m 10s 0.2835 1.0406\n"
     ]
    }
   ],
   "source": [
    "n_epochs = 5\n",
    "iter_count = 0\n",
    "print_every = 1000\n",
    "plot_every = 50\n",
    "\n",
    "# Keep track of losses for plotting\n",
    "current_loss = 0\n",
    "current_norm = 0\n",
    "all_losses = []\n",
    "all_norms = []\n",
    "\n",
    "start = time.time()\n",
    "\n",
    "lstm_model.train()\n",
    "for epoch_i in range(n_epochs):\n",
    "    for sent_tensor, tag_tensor in zip(train_data_oh_list, train_tags_id_list):\n",
    "        sent_tensor = sent_tensor.to(device)\n",
    "        tag_tensor = tag_tensor.to(device)\n",
    "  \n",
    "        output, loss, norm = lstm_train_one_sample(lstm_model, sent_tensor, tag_tensor)\n",
    "        current_loss += loss\n",
    "        current_norm += norm\n",
    "\n",
    "        if iter_count % print_every == 0:\n",
    "            print('%d %s %.4f %.4f' % (iter_count, timeSince(start), loss, norm))\n",
    "\n",
    "        # Add current loss avg to list of losses\n",
    "        if iter_count % plot_every == 0 and iter_count > 0:\n",
    "            all_losses.append(current_loss / plot_every)\n",
    "            all_norms.append(current_norm / plot_every)\n",
    "            current_loss = 0\n",
    "            current_norm = 0\n",
    "\n",
    "        iter_count += 1"
   ]
  },
  {
   "cell_type": "code",
   "execution_count": 0,
   "metadata": {
    "colab": {
     "base_uri": "https://localhost:8080/",
     "height": 667
    },
    "colab_type": "code",
    "executionInfo": {
     "elapsed": 1057,
     "status": "ok",
     "timestamp": 1587246761985,
     "user": {
      "displayName": "ByeongJo Kong",
      "photoUrl": "https://lh3.googleusercontent.com/a-/AOh14GjB3OJt2FV1VBgbxRHjhh6mK4NBkVW9ONJVSMVJ=s64",
      "userId": "10931837966081205326"
     },
     "user_tz": 240
    },
    "id": "4b_iAmgztI-T",
    "outputId": "a2d9dc49-342a-42ea-d281-a6ecd2592ff4"
   },
   "outputs": [
    {
     "data": {
      "text/plain": [
       "<matplotlib.legend.Legend at 0x7f9195eb9278>"
      ]
     },
     "execution_count": 27,
     "metadata": {
      "tags": []
     },
     "output_type": "execute_result"
    },
    {
     "data": {
      "image/png": "[encoded data removed]",
      "text/plain": [
       "<Figure size 432x288 with 1 Axes>"
      ]
     },
     "metadata": {
      "needs_background": "light",
      "tags": []
     },
     "output_type": "display_data"
    },
    {
     "data": {
      "image/png": "[encoded data removed]",
      "text/plain": [
       "<Figure size 576x432 with 1 Axes>"
      ]
     },
     "metadata": {
      "needs_background": "light",
      "tags": []
     },
     "output_type": "display_data"
    }
   ],
   "source": [
    "import matplotlib.pyplot as plt\n",
    "import matplotlib.ticker as ticker\n",
    "\n",
    "plt.figure()\n",
    "plt.xlabel('train')\n",
    "plt.ylabel('losses')\n",
    "plt.plot(all_losses)\n",
    "\n",
    "#plt.figure()\n",
    "#plt.xlabel('train')\n",
    "#plt.ylabel('gradients')\n",
    "#plt.plot(all_norms)\n",
    "\n",
    "plt.figure(figsize=(8, 6))\n",
    "plt.xlabel('epoch')\n",
    "plt.ylabel('loss / grad norm')\n",
    "plt.plot(all_losses, 'b', label=\"loss\")\n",
    "plt.plot(all_norms, 'r', label=\"gradient norm\")\n",
    "plt.legend()"
   ]
  },
  {
   "cell_type": "markdown",
   "metadata": {
    "colab_type": "text",
    "id": "52ebi-K2k1zq"
   },
   "source": [
    "Now let's evaluate our LSTM model."
   ]
  },
  {
   "cell_type": "code",
   "execution_count": 0,
   "metadata": {
    "colab": {
     "base_uri": "https://localhost:8080/",
     "height": 34
    },
    "colab_type": "code",
    "executionInfo": {
     "elapsed": 7244,
     "status": "ok",
     "timestamp": 1587198249131,
     "user": {
      "displayName": "ByeongJo Kong",
      "photoUrl": "https://lh3.googleusercontent.com/a-/AOh14GjB3OJt2FV1VBgbxRHjhh6mK4NBkVW9ONJVSMVJ=s64",
      "userId": "10931837966081205326"
     },
     "user_tz": 240
    },
    "id": "ncDGLjsMluAe",
    "outputId": "5a8d6e51-eb1f-4128-cb98-67cdcbec1065"
   },
   "outputs": [
    {
     "data": {
      "text/plain": [
       "(0.7652068249211362, 0.767805106978376, 0.7604171961526006)"
      ]
     },
     "execution_count": 51,
     "metadata": {
      "tags": []
     },
     "output_type": "execute_result"
    }
   ],
   "source": [
    "def lstm_predict_one_sent(model, sent_tensor):\n",
    "    hidden, memory = model.initHidden()\n",
    "    hidden = hidden.to(device)\n",
    "    memory = memory.to(device)\n",
    "    # Your code here!\n",
    "    predicted_tag_id=[]\n",
    "    for word in sent_tensor:\n",
    "      word = word.view(1,3805)\n",
    "      outputs, hidden, memory = model(word,hidden, memory)\n",
    "      index=torch.max(outputs,1)[1]\n",
    "      predicted_tag_id.append(index)\n",
    "      \n",
    "    predicted_tag_id = torch.cat(predicted_tag_id)\n",
    "    \n",
    "    return predicted_tag_id\n",
    "\n",
    "\n",
    "lstm_model.eval()\n",
    "predicted_tags = []\n",
    "for sent_tensor in test_data_oh_list:\n",
    "    sent_tensor = sent_tensor.to(device)\n",
    "    predicted_tag_id = lstm_predict_one_sent(lstm_model, sent_tensor)\n",
    "    predicted_tags.append([id2tag[idx] for idx in predicted_tag_id.detach().cpu().numpy()])\n",
    "\n",
    "\n",
    "# Will output precision, recall, and f1 score.\n",
    "evaluate_result(test_tags, predicted_tags)"
   ]
  },
  {
   "cell_type": "markdown",
   "metadata": {
    "colab_type": "text",
    "id": "rHltRZH4gfI2"
   },
   "source": [
    "## **Part 2: Lab writeup**\n",
    "\n",
    "Your lab report should discuss any implementation details that were important to filling out the code above. Then, use the code to set up experiments that answer the following questions:\n",
    "\n",
    "1. Change lstm_hidden_size so that LSTM has approximately the same amount of parameters as RNN. Hint: use sum(p.numel() for p in model.parameters() if p.requires_grad) to find the number of trainable parameters. Re-train the LSTM model and discuss your findings.\n",
    "\n",
    "2. Same in part 1 writeup, plot the gradient norm figure for LSTM. Discuss your findings.\n",
    "\n",
    "3. Currently we update model parameters for each sample (1 sample = 1 iteration). In practice, we usually train with a mini-batch (mB): the entire dataset of N samples is split into N/mB batches, and use one mini-batch for each update. Briefly describe how to do batching in our dataset. Hint: each sentence can have variable length."
   ]
  }
 ],
 "metadata": {
  "accelerator": "GPU",
  "colab": {
   "collapsed_sections": [],
   "machine_shape": "hm",
   "name": "2a_RNN+LSTM_Final.ipynb",
   "provenance": [
    {
     "file_id": "https://github.com/lingo-mit/6864-hw2/blob/master/6864_hw2.ipynb",
     "timestamp": 1583965680799
    }
   ]
  },
  "kernelspec": {
   "display_name": "Python 3",
   "language": "python",
   "name": "python3"
  },
  "language_info": {
   "codemirror_mode": {
    "name": "ipython",
    "version": 3
   },
   "file_extension": ".py",
   "mimetype": "text/x-python",
   "name": "python",
   "nbconvert_exporter": "python",
   "pygments_lexer": "ipython3",
   "version": "3.7.3"
  }
 },
 "nbformat": 4,
 "nbformat_minor": 1
}
