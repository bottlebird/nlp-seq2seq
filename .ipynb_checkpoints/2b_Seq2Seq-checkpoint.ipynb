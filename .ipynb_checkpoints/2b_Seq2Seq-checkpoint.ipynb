{
 "cells": [
  {
   "cell_type": "code",
   "execution_count": 0,
   "metadata": {
    "colab": {},
    "colab_type": "code",
    "id": "FU7xWiY6TyWS"
   },
   "outputs": [],
   "source": [
    "%%bash\n",
    "!(stat -t /usr/local/lib/*/dist-packages/google/colab > /dev/null 2>&1) && exit\n",
    "rm -rf 6864-hw2b"
   ]
  },
  {
   "cell_type": "markdown",
   "metadata": {
    "colab_type": "text",
    "id": "uie6jWpIhg_B"
   },
   "source": []
  },
  {
   "cell_type": "code",
   "execution_count": 0,
   "metadata": {
    "colab": {},
    "colab_type": "code",
    "id": "5AyMA9rK1Rhf"
   },
   "outputs": [],
   "source": [
    "import os\n",
    "os.makedirs(\"6864-hw2b\", exist_ok=True)\n",
    "import sys\n",
    "sys.path.append(\"/content/6864-hw2b\")"
   ]
  },
  {
   "cell_type": "code",
   "execution_count": 0,
   "metadata": {
    "colab": {
     "base_uri": "https://localhost:8080/",
     "height": 224
    },
    "colab_type": "code",
    "executionInfo": {
     "elapsed": 7120,
     "status": "ok",
     "timestamp": 1587835622744,
     "user": {
      "displayName": "ByeongJo Kong",
      "photoUrl": "https://lh3.googleusercontent.com/a-/AOh14GjB3OJt2FV1VBgbxRHjhh6mK4NBkVW9ONJVSMVJ=s64",
      "userId": "10931837966081205326"
     },
     "user_tz": 240
    },
    "id": "BL1IfnRdPdsl",
    "outputId": "4f4398f7-5a5f-4fb6-81fe-44c69f7ab082"
   },
   "outputs": [
    {
     "name": "stdout",
     "output_type": "stream",
     "text": [
      "Collecting sacrebleu\n",
      "\u001b[?25l  Downloading https://files.pythonhosted.org/packages/0f/27/e9c95f45fc11f9093000d234564823aab762f517458f1aa1ad01ba51d5f2/sacrebleu-1.4.7-py3-none-any.whl (59kB)\n",
      "\r",
      "\u001b[K     |█████▌                          | 10kB 21.9MB/s eta 0:00:01\r",
      "\u001b[K     |███████████                     | 20kB 2.2MB/s eta 0:00:01\r",
      "\u001b[K     |████████████████▍               | 30kB 2.6MB/s eta 0:00:01\r",
      "\u001b[K     |██████████████████████          | 40kB 2.1MB/s eta 0:00:01\r",
      "\u001b[K     |███████████████████████████▍    | 51kB 2.3MB/s eta 0:00:01\r",
      "\u001b[K     |████████████████████████████████| 61kB 2.1MB/s \n",
      "\u001b[?25hCollecting portalocker\n",
      "  Downloading https://files.pythonhosted.org/packages/53/84/7b3146ec6378d28abc73ab484f09f47dfa008ad6f03f33d90a369f880e25/portalocker-1.7.0-py2.py3-none-any.whl\n",
      "Collecting mecab-python3\n",
      "\u001b[?25l  Downloading https://files.pythonhosted.org/packages/18/49/b55a839a77189042960bf96490640c44816073f917d489acbc5d79fa5cc3/mecab_python3-0.996.5-cp36-cp36m-manylinux2010_x86_64.whl (17.1MB)\n",
      "\u001b[K     |████████████████████████████████| 17.1MB 1.4MB/s \n",
      "\u001b[?25hRequirement already satisfied: typing in /usr/local/lib/python3.6/dist-packages (from sacrebleu) (3.6.6)\n",
      "Installing collected packages: portalocker, mecab-python3, sacrebleu\n",
      "Successfully installed mecab-python3-0.996.5 portalocker-1.7.0 sacrebleu-1.4.7\n"
     ]
    }
   ],
   "source": [
    "!pip install sacrebleu"
   ]
  },
  {
   "cell_type": "markdown",
   "metadata": {
    "colab_type": "text",
    "id": "5fOArV2r9Piz"
   },
   "source": [
    "# **Part 3: Sequence-to-Sequence Model**\n",
    "\n"
   ]
  },
  {
   "cell_type": "markdown",
   "metadata": {
    "colab_type": "text",
    "id": "mA9JfWiK9eoL"
   },
   "source": [
    "In this lab, you will explore RNN-based sequence-to-sequence (seq2seq) models to perform machine translation (MT). We will use a Vietnamese-English dataset from IWSLT'15. The task is to translate a Vietnamese sentence into English.\n",
    "\n",
    "The lab is divided into two parts. The first part is to implement a vanilla seq2seq architecture without attention. In the second part you will implement your favorite attention mechanism (doesn't have to come from lecture) and add it to your vanilla seq2seq model. We will provide the training and testing scripts (trust me, the decoding/testing is actually the hardest part :P), so you will mainly just have to focus on implementing the models (I say *mainly* because you still might need to modify the testing script, depending on which attention method you use and how you implement it).\n"
   ]
  },
  {
   "cell_type": "markdown",
   "metadata": {
    "colab_type": "text",
    "id": "zDJjmvZfHV_l"
   },
   "source": [
    "## **Section 1: Data Preprocessing**\n",
    "\n",
    "No need to write any code in this section. But you are encouraged to test with this part to understand the data.\n",
    "\n",
    "First, we download the dataset and place it under current directory."
   ]
  },
  {
   "cell_type": "code",
   "execution_count": 0,
   "metadata": {
    "colab": {
     "base_uri": "https://localhost:8080/",
     "height": 139
    },
    "colab_type": "code",
    "executionInfo": {
     "elapsed": 7575,
     "status": "ok",
     "timestamp": 1587835633421,
     "user": {
      "displayName": "ByeongJo Kong",
      "photoUrl": "https://lh3.googleusercontent.com/a-/AOh14GjB3OJt2FV1VBgbxRHjhh6mK4NBkVW9ONJVSMVJ=s64",
      "userId": "10931837966081205326"
     },
     "user_tz": 240
    },
    "id": "02RioHPryvOz",
    "outputId": "862e370c-f45d-4103-e61a-e29944dae40c"
   },
   "outputs": [
    {
     "name": "stdout",
     "output_type": "stream",
     "text": [
      "2020-04-25 17:27:07 URL:https://nlp.stanford.edu/projects/nmt/data/iwslt15.en-vi/train.en [13603614/13603614] -> \"/content/6864-hw2b/train.en\" [1]\n",
      "2020-04-25 17:27:09 URL:https://nlp.stanford.edu/projects/nmt/data/iwslt15.en-vi/train.vi [18074646/18074646] -> \"/content/6864-hw2b/train.vi\" [1]\n",
      "2020-04-25 17:27:10 URL:https://nlp.stanford.edu/projects/nmt/data/iwslt15.en-vi/tst2013.en [132264/132264] -> \"/content/6864-hw2b/tst2013.en\" [1]\n",
      "2020-04-25 17:27:11 URL:https://nlp.stanford.edu/projects/nmt/data/iwslt15.en-vi/tst2013.vi [183855/183855] -> \"/content/6864-hw2b/tst2013.vi\" [1]\n",
      "2020-04-25 17:27:12 URL:https://nlp.stanford.edu/projects/nmt/data/iwslt15.en-vi/vocab.en [139741/139741] -> \"/content/6864-hw2b/vocab.en\" [1]\n",
      "2020-04-25 17:27:12 URL:https://nlp.stanford.edu/projects/nmt/data/iwslt15.en-vi/vocab.vi [46767/46767] -> \"/content/6864-hw2b/vocab.vi\" [1]\n"
     ]
    }
   ],
   "source": [
    "# Download data\n",
    "!wget -nv -O /content/6864-hw2b/train.en https://nlp.stanford.edu/projects/nmt/data/iwslt15.en-vi/train.en\n",
    "!wget -nv -O /content/6864-hw2b/train.vi https://nlp.stanford.edu/projects/nmt/data/iwslt15.en-vi/train.vi\n",
    "!wget -nv -O /content/6864-hw2b/tst2013.en https://nlp.stanford.edu/projects/nmt/data/iwslt15.en-vi/tst2013.en\n",
    "!wget -nv -O /content/6864-hw2b/tst2013.vi https://nlp.stanford.edu/projects/nmt/data/iwslt15.en-vi/tst2013.vi\n",
    "!wget -nv -O /content/6864-hw2b/vocab.en https://nlp.stanford.edu/projects/nmt/data/iwslt15.en-vi/vocab.en\n",
    "!wget -nv -O /content/6864-hw2b/vocab.vi https://nlp.stanford.edu/projects/nmt/data/iwslt15.en-vi/vocab.vi"
   ]
  },
  {
   "cell_type": "markdown",
   "metadata": {
    "colab_type": "text",
    "id": "ogFESHAf-6MY"
   },
   "source": [
    "Next, we do some simple data preprocessing and show some data statistics."
   ]
  },
  {
   "cell_type": "code",
   "execution_count": 0,
   "metadata": {
    "colab": {
     "base_uri": "https://localhost:8080/",
     "height": 452
    },
    "colab_type": "code",
    "executionInfo": {
     "elapsed": 2253,
     "status": "ok",
     "timestamp": 1587835637651,
     "user": {
      "displayName": "ByeongJo Kong",
      "photoUrl": "https://lh3.googleusercontent.com/a-/AOh14GjB3OJt2FV1VBgbxRHjhh6mK4NBkVW9ONJVSMVJ=s64",
      "userId": "10931837966081205326"
     },
     "user_tz": 240
    },
    "id": "OfkQGqV30hgC",
    "outputId": "45e5d7fd-b304-4a0c-a32c-5bfc363b87db"
   },
   "outputs": [
    {
     "name": "stdout",
     "output_type": "stream",
     "text": [
      "Number of training (src, trg) sentence pairs: 108748\n",
      "Number of validation (src, trg) sentence pairs: 12083\n",
      "Number of testing (src, trg) sentence pairs: 1139\n",
      "Size of en vocab set (including '<pad>', '<unk>', '<s>', '</s>'): 7710\n",
      "Size of vi vocab set (including '<pad>', '<unk>', '<s>', '</s>'): 17192\n",
      "Training sentence avg. length: 20 \n",
      "Training sentence length at 95-percentile: 42\n",
      "Training sentence length distribution (x-axis is length range and y-axis is count):\n",
      "\n"
     ]
    },
    {
     "data": {
      "image/png": "[encoded data removed]",
      "text/plain": [
       "<Figure size 432x288 with 1 Axes>"
      ]
     },
     "metadata": {
      "needs_background": "light",
      "tags": []
     },
     "output_type": "display_data"
    },
    {
     "name": "stdout",
     "output_type": "stream",
     "text": [
      "Example Vietnamese input: ['Adam', 'Sadowsky', 'dàn', 'dựng', '1', 'video', 'âm', 'nhạc', 'hiện', 'tượng', '.']\n",
      "Its target English output: ['Adam', 'Sadowsky', ':', 'How', 'to', 'engineer', 'a', 'viral', 'music', 'video']\n"
     ]
    }
   ],
   "source": [
    "import numpy as np\n",
    "import matplotlib.pyplot as plt\n",
    "\n",
    "\n",
    "def read_sentence_file(filename):\n",
    "  sentences_list = []\n",
    "  with open(filename, \"r\") as f:\n",
    "    for line in f:\n",
    "      sentences_list.append(line.strip().split())\n",
    "  return sentences_list\n",
    "\n",
    "def read_vocab_file(filename):\n",
    "  with open(filename, \"r\") as f:\n",
    "    return [line.strip() for line in f]\n",
    "\n",
    "\n",
    "src_vocab_set = read_vocab_file(os.path.join(\"/content/6864-hw2b\", \"vocab.vi\"))\n",
    "trg_vocab_set = read_vocab_file(os.path.join(\"/content/6864-hw2b\", \"vocab.en\"))\n",
    "\n",
    "train_src_sentences_list = read_sentence_file(os.path.join(\"/content/6864-hw2b\",\n",
    "                                                           \"train.vi\"))\n",
    "train_trg_sentences_list = read_sentence_file(os.path.join(\"/content/6864-hw2b\",\n",
    "                                                           \"train.en\"))\n",
    "assert len(train_src_sentences_list) == len(train_trg_sentences_list)\n",
    "\n",
    "test_src_sentences_list = read_sentence_file(os.path.join(\"/content/6864-hw2b\",\n",
    "                                                          \"tst2013.vi\"))\n",
    "test_trg_sentences_list = read_sentence_file(os.path.join(\"/content/6864-hw2b\",\n",
    "                                                          \"tst2013.en\"))\n",
    "assert len(test_src_sentences_list) == len(test_trg_sentences_list)\n",
    "\n",
    "\n",
    "MAX_SENT_LENGTH = 48\n",
    "MAX_SENT_LENGTH_PLUS_SOS_EOS = 50\n",
    "\n",
    "# We only keep sentences that do not exceed 48 words, so that later when we\n",
    "# add <s> and </s> to a sentence it still won't exceed 50 words.\n",
    "def filter_data(src_sentences_list, trg_sentences_list, max_len):\n",
    "  new_src_sentences_list, new_trg_sentences_list = [], []\n",
    "  for src_sent, trg_sent in zip(src_sentences_list, trg_sentences_list):\n",
    "    if (len(src_sent) <= max_len and len(trg_sent) <= max_len\n",
    "        and len(src_sent) > 0 and len(trg_sent)) > 0:\n",
    "      new_src_sentences_list.append(src_sent)\n",
    "      new_trg_sentences_list.append(trg_sent)\n",
    "  return new_src_sentences_list, new_trg_sentences_list\n",
    "\n",
    "train_src_sentences_list, train_trg_sentences_list = filter_data(\n",
    "    train_src_sentences_list, train_trg_sentences_list, max_len=MAX_SENT_LENGTH)\n",
    "test_src_sentences_list, test_trg_sentences_list = filter_data(\n",
    "    test_src_sentences_list, test_trg_sentences_list, max_len=MAX_SENT_LENGTH)\n",
    "\n",
    "# We take 10% of training data as validation set.\n",
    "num_val = int(len(train_src_sentences_list) * 0.1)\n",
    "val_src_sentences_list = train_src_sentences_list[:num_val]\n",
    "val_trg_sentences_list = train_trg_sentences_list[:num_val]\n",
    "train_src_sentences_list = train_src_sentences_list[num_val:]\n",
    "train_trg_sentences_list = train_trg_sentences_list[num_val:]\n",
    "\n",
    "# Show some data stats\n",
    "print(\"Number of training (src, trg) sentence pairs: %d\" %\n",
    "      len(train_src_sentences_list))\n",
    "print(\"Number of validation (src, trg) sentence pairs: %d\" %\n",
    "      len(val_src_sentences_list))\n",
    "print(\"Number of testing (src, trg) sentence pairs: %d\" %\n",
    "      len(test_src_sentences_list))\n",
    "src_vocab_set = ['<pad>'] + src_vocab_set\n",
    "trg_vocab_set = ['<pad>'] + trg_vocab_set\n",
    "print(\"Size of en vocab set (including '<pad>', '<unk>', '<s>', '</s>'): %d\" %\n",
    "      len(src_vocab_set))\n",
    "print(\"Size of vi vocab set (including '<pad>', '<unk>', '<s>', '</s>'): %d\" %\n",
    "      len(trg_vocab_set))\n",
    "\n",
    "length = [len(sent) for sent in train_src_sentences_list]\n",
    "print('Training sentence avg. length: %d ' % np.mean(length))\n",
    "print('Training sentence length at 95-percentile: %d' %\n",
    "      np.percentile(length, 95))\n",
    "print('Training sentence length distribution '\n",
    "      '(x-axis is length range and y-axis is count):\\n')\n",
    "plt.hist(length, bins=5)\n",
    "plt.show()\n",
    "\n",
    "print('Example Vietnamese input: ' + str(train_src_sentences_list[0]))\n",
    "print('Its target English output: ' + str(train_trg_sentences_list[0]))"
   ]
  },
  {
   "cell_type": "markdown",
   "metadata": {
    "colab_type": "text",
    "id": "J2x0lhVm_Yxx"
   },
   "source": [
    "Here we define a class called `MTDataset`. It is built on top of the efficient data loader API provided in PyTorch. See Section 5 for explanation."
   ]
  },
  {
   "cell_type": "code",
   "execution_count": 0,
   "metadata": {
    "colab": {},
    "colab_type": "code",
    "id": "muwDBzXM5ijT"
   },
   "outputs": [],
   "source": [
    "import torch\n",
    "from torch.utils import data\n",
    "\n",
    "device = \"cuda\" if torch.cuda.is_available() else \"cpu\"\n",
    "assert device == \"cuda\"   # use gpu whenever you can!\n",
    "\n",
    "seed = 42\n",
    "np.random.seed(seed)\n",
    "torch.manual_seed(seed)\n",
    "torch.cuda.manual_seed(seed)\n",
    "\n",
    "\n",
    "# These IDs are reserved.\n",
    "PAD_INDEX = 0\n",
    "UNK_INDEX = 1\n",
    "SOS_INDEX = 2\n",
    "EOS_INDEX = 3\n",
    "\n",
    "\n",
    "class MTDataset(data.Dataset):\n",
    "  def __init__(self, src_sentences, src_vocabs, trg_sentences, trg_vocabs,\n",
    "               sampling=1.):\n",
    "    self.src_sentences = src_sentences[:int(len(src_sentences) * sampling)]\n",
    "    self.trg_sentences = trg_sentences[:int(len(src_sentences) * sampling)]\n",
    "\n",
    "    self.max_src_seq_length = MAX_SENT_LENGTH_PLUS_SOS_EOS\n",
    "    self.max_trg_seq_length = MAX_SENT_LENGTH_PLUS_SOS_EOS\n",
    "\n",
    "    self.src_vocabs = src_vocabs\n",
    "    self.trg_vocabs = trg_vocabs\n",
    "\n",
    "    self.src_v2id = {v : i for i, v in enumerate(src_vocabs)}\n",
    "    self.src_id2v = {val : key for key, val in self.src_v2id.items()}\n",
    "    self.trg_v2id = {v : i for i, v in enumerate(trg_vocabs)}\n",
    "    self.trg_id2v = {val : key for key, val in self.trg_v2id.items()}\n",
    "\n",
    "  def __len__(self):\n",
    "    return len(self.src_sentences)\n",
    "\n",
    "  def __getitem__(self, index):\n",
    "    src_sent = self.src_sentences[index]\n",
    "    src_len = len(src_sent) + 2   # add <s> and </s> to each sentence\n",
    "    src_id = []\n",
    "    for w in src_sent:\n",
    "      if w not in self.src_vocabs:\n",
    "        w = '<unk>'\n",
    "      src_id.append(self.src_v2id[w])\n",
    "    src_id = ([SOS_INDEX] + src_id + [EOS_INDEX] + [PAD_INDEX] *\n",
    "              (self.max_src_seq_length - src_len))\n",
    "\n",
    "    trg_sent = self.trg_sentences[index]\n",
    "    trg_len = len(trg_sent) + 2\n",
    "    trg_id = []\n",
    "    for w in trg_sent:\n",
    "      if w not in self.trg_vocabs:\n",
    "        w = '<unk>'\n",
    "      trg_id.append(self.trg_v2id[w])\n",
    "    trg_id = ([SOS_INDEX] + trg_id + [EOS_INDEX] + [PAD_INDEX] *\n",
    "              (self.max_trg_seq_length - trg_len))\n",
    "\n",
    "    return torch.tensor(src_id), src_len, torch.tensor(trg_id), trg_len"
   ]
  },
  {
   "cell_type": "markdown",
   "metadata": {
    "colab_type": "text",
    "id": "kb5gQEp7oVdi"
   },
   "source": [
    "## **Section 2: Encoder**\n",
    "\n",
    "Seq2seq consists of an Encoder RNN and a decoder RNN. In a vanilla seq2seq model where there is no attention mechanism between encoder and decoder, the encoder aims to compress the information contained in the entire input sequence into a single vector and pass it to decoder.\n",
    "\n",
    "We start with implementing the encoder, which is just a simple RNN. We use a GRU here, but feel free to try other cell types."
   ]
  },
  {
   "cell_type": "code",
   "execution_count": 0,
   "metadata": {
    "colab": {},
    "colab_type": "code",
    "id": "dnwVGDVkoPt0"
   },
   "outputs": [],
   "source": [
    "import torch.nn as nn\n",
    "import torch.nn.functional as F\n",
    "from torch.nn.utils.rnn import pack_padded_sequence, pad_packed_sequence\n",
    "\n",
    "\n",
    "class Encoder(nn.Module):\n",
    "  def __init__(self, input_size, hidden_size, dropout=0.):\n",
    "    \"\"\"\n",
    "    Inputs: \n",
    "      - `input_size`: an int representing the RNN input size.\n",
    "      - `hidden_size`: an int representing the RNN hidden size.\n",
    "      - `dropout`: a float representing the dropout rate during training. Note\n",
    "          that for 1-layer RNN this has no effect since dropout only applies to\n",
    "          outputs of intermediate layers.\n",
    "    \"\"\"\n",
    "    super(Encoder, self).__init__()\n",
    "    \n",
    "    # Note: for lab writeup question #4, you can directly change `num_layers`\n",
    "    # and `bidirectional` here to enable deep/bidirectional RNNs. However, you\n",
    "    # will also need to modify some parts in the rest of the code accordingly.\n",
    "    self.rnn = nn.GRU(input_size, hidden_size, num_layers=1, batch_first=True,\n",
    "                      dropout=dropout, bidirectional=False)\n",
    "\n",
    "  def forward(self, inputs, lengths):\n",
    "    \"\"\"\n",
    "    Inputs:\n",
    "      - `inputs`: a 3d-tensor of shape (batch_size, max_seq_length, embed_size)\n",
    "          representing a batch of padded embedded word vectors of source\n",
    "          sentences.\n",
    "      - `lengths`: a 1d-tensor of shape (batch_size,) representing the sequence\n",
    "          lengths of `inputs`.\n",
    "\n",
    "    Returns:\n",
    "      - `outputs`: a 3d-tensor of shape\n",
    "        (batch_size, max_seq_length, hidden_size).\n",
    "      - `finals`: a 3d-tensor of shape (num_layers, batch_size, hidden_size).\n",
    "      Hint: `outputs` and `finals` are both standard GRU outputs. Check:\n",
    "      https://pytorch.org/docs/stable/nn.html#gru\n",
    "    \"\"\"\n",
    "    packed_inputs = pack_padded_sequence(inputs,lengths,batch_first=True,enforce_sorted=False)\n",
    "    outputs, finals = self.rnn(packed_inputs) #output(128,50,256), finals(1,128,256)\n",
    "    outputs, _ = pad_packed_sequence(outputs, batch_first=True, total_length=MAX_SENT_LENGTH_PLUS_SOS_EOS)\n",
    "\n",
    "    return outputs, finals"
   ]
  },
  {
   "cell_type": "markdown",
   "metadata": {
    "colab_type": "text",
    "id": "8Oz3Kc4QKyEP"
   },
   "source": [
    "## **Section 3: Decoder**\n",
    "\n",
    "Here you will implement a decoder RNN that uses encoder's last hidden state to initialize its initial hidden state."
   ]
  },
  {
   "cell_type": "code",
   "execution_count": 0,
   "metadata": {
    "colab": {},
    "colab_type": "code",
    "id": "JYT0BlfYUJXj"
   },
   "outputs": [],
   "source": [
    "class Decoder(nn.Module):\n",
    "  \"\"\"An RNN decoder without attention.\"\"\"\n",
    "\n",
    "  def __init__(self, input_size, hidden_size, dropout=0.):\n",
    "    \"\"\"\n",
    "      Inputs:\n",
    "        - `input_size`, `hidden_size`, and `dropout` the same as in Encoder.\n",
    "    \"\"\"\n",
    "    super(Decoder, self).__init__()\n",
    "    self.dropout=nn.Dropout(p=dropout)\n",
    "    self.pre_output=nn.Linear(hidden_size+input_size,hidden_size,bias=False)\n",
    "    self.f_hidden = nn.Linear(hidden_size, hidden_size)\n",
    "    self.rnn = nn.GRU(input_size, hidden_size, num_layers=1, batch_first=True,\n",
    "                      dropout=dropout, bidirectional=False)\n",
    "    \n",
    "  def forward(self, inputs, encoder_finals, hidden=None, max_len=None):\n",
    "    \"\"\"Unroll the decoder one step at a time.\n",
    "\n",
    "    Inputs:\n",
    "      - `inputs`: a 3d-tensor of shape (batch_size, max_seq_length, embed_size)\n",
    "          representing a batch of padded embedded word vectors of target\n",
    "          sentences (for teacher-forcing during training).\n",
    "      - `encoder_finals`: a 3d-tensor of shape\n",
    "          (num_enc_layers, batch_size, hidden_size) representing the final\n",
    "          encoder hidden states used to initialize the initial decoder hidden\n",
    "          states.\n",
    "      - `hidden`: a 3d-tensor of shape (1, batch_size, hidden_size) representing\n",
    "          the value to be used to initialize the initial decoder hidden states.\n",
    "          If None, then use `encoder_finals`.\n",
    "      - `max_len`: an int representing the maximum decoding length.\n",
    "\n",
    "    Returns:\n",
    "      - `outputs`: a 3d-tensor of shape\n",
    "          (batch_size, max_seq_length, hidden_size) representing the raw\n",
    "          decoder outputs (before converting to a `trg_vocab_size`-dim vector).\n",
    "          We will convert it later in a `Generator` below.\n",
    "      - `hidden`: a 3d-tensor of shape (1, batch_size, hidden_size)\n",
    "          representing the last decoder hidden state.\n",
    "    \"\"\"\n",
    "    \n",
    "    # The maximum number of steps to unroll the RNN.\n",
    "    if max_len is None:\n",
    "      max_len = inputs.size(1)\n",
    "\n",
    "    # Initialize decoder hidden state.\n",
    "    if hidden is None:\n",
    "      hidden = self.init_hidden(encoder_finals)#encoder_finals)\n",
    "\n",
    "    pre_outputs = []\n",
    "    for i in range(max_len):\n",
    "      prev_embed=inputs[:,i].unsqueeze(1)\n",
    "      context=hidden[-1].unsqueeze(0)\n",
    "      output, hidden = self.rnn(prev_embed,hidden)\n",
    "\n",
    "      pre_output=torch.cat([prev_embed, output], dim=2)\n",
    "      pre_output=self.dropout(pre_output)\n",
    "      pre_output=self.pre_output(pre_output)\n",
    "      pre_outputs.append(pre_output)\n",
    "\n",
    "    outputs=torch.cat(pre_outputs, dim=1)\n",
    "\n",
    "    return hidden, outputs\n",
    "\n",
    "  def init_hidden(self, encoder_finals):\n",
    "    \"\"\"Use encoder final hidden state to initialize decoder's first hidden\n",
    "    state.\"\"\"\n",
    "    ### Your code here!\n",
    "    return torch.tanh(self.f_hidden(encoder_finals))"
   ]
  },
  {
   "cell_type": "markdown",
   "metadata": {
    "colab_type": "text",
    "id": "AH0VdHE2_x1k"
   },
   "source": [
    "Define the high level encoder-decoder class to wrap up sub-models, including encoder, decoder, generator, and src/trg embeddings."
   ]
  },
  {
   "cell_type": "code",
   "execution_count": 0,
   "metadata": {
    "colab": {},
    "colab_type": "code",
    "id": "nNBaAYB_oHxG"
   },
   "outputs": [],
   "source": [
    "class EncoderDecoder(nn.Module):\n",
    "  \"\"\"A standard Encoder-Decoder architecture without attention.\n",
    "  \"\"\"\n",
    "  def __init__(self, encoder, decoder, src_embed, trg_embed, generator):\n",
    "    \"\"\"\n",
    "    Inputs:\n",
    "      - `encoder`: an `Encoder` object.\n",
    "      - `decoder`: an `Decoder` object.\n",
    "      - `src_embed`: an nn.Embedding object representing the lookup table for\n",
    "          input (source) sentences.\n",
    "      - `trg_embed`: an nn.Embedding object representing the lookup table for\n",
    "          output (target) sentences.\n",
    "      - `generator`: a `Generator` object. Essentially a linear mapping. See\n",
    "          the next code cell.\n",
    "    \"\"\"\n",
    "    super(EncoderDecoder, self).__init__()\n",
    "\n",
    "    self.encoder = encoder\n",
    "    self.decoder = decoder\n",
    "    self.src_embed = src_embed\n",
    "    self.trg_embed = trg_embed\n",
    "    self.generator = generator\n",
    "\n",
    "  def forward(self, src_ids, trg_ids, src_lengths):\n",
    "    \"\"\"Take in and process masked source and target sequences.\n",
    "\n",
    "    Inputs:\n",
    "      `src_ids`: a 2d-tensor of shape (batch_size, max_seq_length) representing\n",
    "        a batch of source sentences of word ids.\n",
    "      `trg_ids`: a 2d-tensor of shape (batch_size, max_seq_length) representing\n",
    "        a batch of target sentences of word ids.\n",
    "      `src_lengths`: a 1d-tensor of shape (batch_size,) representing the\n",
    "        sequence length of `src_ids`.\n",
    "\n",
    "    Returns the decoder outputs, see the above cell.\n",
    "    \"\"\"\n",
    "    encoder_hiddens, encoder_finals = self.encode(src_ids, src_lengths)\n",
    "    del encoder_hiddens   # unused\n",
    "    return self.decode(encoder_finals, trg_ids[:, :-1])\n",
    "\n",
    "  def encode(self, src_ids, src_lengths):\n",
    "    return self.encoder(self.src_embed(src_ids), src_lengths)\n",
    "    \n",
    "  def decode(self, encoder_finals, trg_ids, decoder_hidden=None):\n",
    "    return self.decoder(self.trg_embed(trg_ids), encoder_finals, decoder_hidden)"
   ]
  },
  {
   "cell_type": "markdown",
   "metadata": {
    "colab_type": "text",
    "id": "M06QOTbCALGy"
   },
   "source": [
    "It simply projects the pre-output layer (x in the forward function below) to obtain the output layer, so that the final dimension is the target vocabulary size."
   ]
  },
  {
   "cell_type": "code",
   "execution_count": 0,
   "metadata": {
    "colab": {},
    "colab_type": "code",
    "id": "LaHdVcF1KPmd"
   },
   "outputs": [],
   "source": [
    "class Generator(nn.Module):\n",
    "  \"\"\"Define standard linear + softmax generation step.\"\"\"\n",
    "  def __init__(self, hidden_size, vocab_size):\n",
    "    super(Generator, self).__init__()\n",
    "    self.proj = nn.Linear(hidden_size, vocab_size, bias=False)\n",
    "\n",
    "  def forward(self, x):\n",
    "    return F.log_softmax(self.proj(x), dim=-1)"
   ]
  },
  {
   "cell_type": "markdown",
   "metadata": {
    "colab_type": "text",
    "id": "qf8Oc9a_ocC_"
   },
   "source": [
    "## **Section 4: Attention-Based Decoder**\n",
    "\n",
    "Now it's time to add some attention to the decoder. You can implement any attention mechanism you want.\n"
   ]
  },
  {
   "cell_type": "code",
   "execution_count": 0,
   "metadata": {
    "colab": {},
    "colab_type": "code",
    "id": "iZq2NImAoY1C"
   },
   "outputs": [],
   "source": [
    "class AttentionDecoder(nn.Module):\n",
    "  \"\"\"Bahdanau Attention. An attention-based RNN decoder.\"\"\"\n",
    "\n",
    "  def __init__(self, input_size, hidden_size, dropout=0.):\n",
    "    \"\"\"\n",
    "      Inputs:\n",
    "        - `input_size`, `hidden_size`, and `dropout` the same as in Encoder.\n",
    "    \"\"\"\n",
    "    super(AttentionDecoder, self).__init__()\n",
    "    \n",
    "    self.rnn = nn.GRU(input_size + hidden_size, hidden_size, batch_first=True,\n",
    "                      dropout=dropout)\n",
    "    ##attention\n",
    "    self.alphas=None\n",
    "    self.query=nn.Linear(hidden_size, hidden_size, bias=False)\n",
    "    self.energy=nn.Linear(hidden_size, 1, bias=False)\n",
    "    self.key=nn.Linear(hidden_size,hidden_size, bias=False)\n",
    "\n",
    "    self.dropout=nn.Dropout(p=dropout)\n",
    "    self.pre_output=nn.Linear(hidden_size+hidden_size+input_size,hidden_size,bias=False)\n",
    "    self.f_hidden = nn.Linear(hidden_size, hidden_size)\n",
    "    \n",
    "\n",
    "  def forward(self, inputs, encoder_hiddens, encoder_finals,\n",
    "              src_mask, trg_mask, hidden=None, max_len=None):\n",
    "    # The maximum number of steps to unroll the RNN.\n",
    "    if max_len is None:\n",
    "      max_len = trg_mask.size(-1)\n",
    "\n",
    "    # Initialize decoder hidden state.\n",
    "    if hidden is None:\n",
    "      hidden = self.init_hidden(encoder_finals)\n",
    "\n",
    "    proj_key=self.key(encoder_hiddens)\n",
    "    pre_outputs = []\n",
    "    decoder_states = []\n",
    "\n",
    "    #for loop step forward\n",
    "    for i in range(max_len):\n",
    "      prev_embed=inputs[:,i].unsqueeze(1)\n",
    "      #Attention function\n",
    "      query=hidden[-1].unsqueeze(1)\n",
    "      context, attn_probs = self.attention(query, proj_key, encoder_hiddens, src_mask)\n",
    "      \n",
    "      rnn_input=torch.cat([prev_embed,context],dim=2)\n",
    "      output, hidden = self.rnn(rnn_input,hidden)\n",
    "\n",
    "      pre_output=torch.cat([prev_embed, output, context], dim=2)\n",
    "      pre_output=self.dropout(pre_output)\n",
    "      pre_output=self.pre_output(pre_output)\n",
    "      pre_outputs.append(pre_output)\n",
    "\n",
    "    pre_outputs=torch.cat(pre_outputs, dim=1)\n",
    "    return hidden, pre_outputs\n",
    "\n",
    "  def init_hidden(self, encoder_finals):\n",
    "    \"\"\"Use encoder final hidden state to initialize decoder's first hidden\n",
    "    state.\"\"\"\n",
    "    return torch.tanh(self.f_hidden(encoder_finals))\n",
    "\n",
    "  def attention(self, query, proj_key, encoder_hiddens, mask):\n",
    "    query=self.query(query)\n",
    "\n",
    "    scores=self.energy(torch.tanh(query+proj_key))\n",
    "    scores=scores.squeeze(2).unsqueeze(1)\n",
    "    scores.data.masked_fill_(mask == 0, -float('inf'))\n",
    "    \n",
    "    alphas=F.softmax(scores,dim=-1)\n",
    "    self.alphas=alphas\n",
    "    \n",
    "    context=torch.bmm(alphas, encoder_hiddens)\n",
    "\n",
    "    return context, alphas"
   ]
  },
  {
   "cell_type": "markdown",
   "metadata": {
    "colab_type": "text",
    "id": "DTUXxJWPPQ9W"
   },
   "source": [
    "Similarly, we use a `EncoderAttentionDecoder` class to wrap up all encoder, decoder, src/trg embeddings, and generator. You can take the `EncoderDecoder` class as a reference."
   ]
  },
  {
   "cell_type": "code",
   "execution_count": 0,
   "metadata": {
    "colab": {},
    "colab_type": "code",
    "id": "mghIa6XzubZL"
   },
   "outputs": [],
   "source": [
    "class EncoderAttentionDecoder(nn.Module):\n",
    "  \"\"\"A Encoder-Decoder architecture with attention.\n",
    "  \"\"\"\n",
    "  def __init__(self, encoder, decoder, src_embed , trg_embed, generator):\n",
    "    \"\"\"\n",
    "    Inputs:\n",
    "      - `encoder`: an `Encoder` object.\n",
    "      - `decoder`: an `AttentionDecoder` object.\n",
    "      - `src_embed`: an nn.Embedding object representing the lookup table for\n",
    "          input (source) sentences.\n",
    "      - `trg_embed`: an nn.Embedding object representing the lookup table for\n",
    "          output (target) sentences.\n",
    "      - `generator`: a `Generator` object. Essentially a linear mapping. See\n",
    "          the next code cell.\n",
    "    \"\"\"\n",
    "    super(EncoderAttentionDecoder, self).__init__()\n",
    "\n",
    "    self.encoder = encoder\n",
    "    self.decoder = decoder\n",
    "    self.src_embed = src_embed\n",
    "    self.trg_embed = trg_embed\n",
    "    self.generator = generator\n",
    "\n",
    "  def forward(self, src_ids, trg_ids, src_lengths):\n",
    "    \"\"\"Take in and process masked source and target sequences.\n",
    "\n",
    "    Inputs:\n",
    "      `src_ids`: a 2d-tensor of shape (batch_size, max_seq_length) representing\n",
    "        a batch of source sentences of word ids.\n",
    "      `trg_ids`: a 2d-tensor of shape (batch_size, max_seq_length) representing\n",
    "        a batch of target sentences of word ids.\n",
    "      `src_lengths`: a 1d-tensor of shape (batch_size,) representing the\n",
    "        sequence length of `src_ids`.\n",
    "\n",
    "    Returns the decoder outputs, see the above cell.\n",
    "    \"\"\"\n",
    "    ### Your code here!\n",
    "    # You can refer to `EncoderDecoder` and extend from it.\n",
    "    encoder_hiddens, encoder_finals = self.encode(src_ids, src_lengths)\n",
    "    src_mask = (src_ids != PAD_INDEX).unsqueeze(-2)\n",
    "    trg_mask = (trg_ids[:, 1:] != PAD_INDEX).unsqueeze(-2)\n",
    "    return self.decode(encoder_hiddens, encoder_finals,\n",
    "                       src_mask, trg_ids[:, :-1], trg_mask)\n",
    "\n",
    "  def encode(self, src_ids, src_lengths):\n",
    "    return self.encoder(self.src_embed(src_ids), src_lengths)\n",
    "\n",
    "  def decode(self, encoder_hiddens, encoder_finals, src_mask, \n",
    "             trg_ids, trg_mask, hidden=None):\n",
    "    return self.decoder(self.trg_embed(trg_ids), encoder_hiddens,\n",
    "                        encoder_finals, src_mask, trg_mask, hidden)\n",
    "    "
   ]
  },
  {
   "cell_type": "markdown",
   "metadata": {
    "colab_type": "text",
    "id": "9VIpNlKtK8l_"
   },
   "source": [
    "## **Section 5: Training and Testing**\n",
    "\n",
    "We provide training and testing scripts here. You might need to adapt them to fit your model implementation."
   ]
  },
  {
   "cell_type": "markdown",
   "metadata": {
    "colab_type": "text",
    "id": "I38IFq48BKa5"
   },
   "source": [
    "Apply the dataloader to the MT dataset. Dataloader provides a convenient way to iterate through the whole dataset."
   ]
  },
  {
   "cell_type": "code",
   "execution_count": 0,
   "metadata": {
    "colab": {},
    "colab_type": "code",
    "id": "cJrXO7nCjzBP"
   },
   "outputs": [],
   "source": [
    "batch_size = 128\n",
    "\n",
    "# You can try on a smaller training set by setting a smaller `sampling`.\n",
    "train_set = MTDataset(train_src_sentences_list, src_vocab_set,\n",
    "                      train_trg_sentences_list, trg_vocab_set, sampling=1.)\n",
    "train_data_loader = data.DataLoader(train_set, batch_size=batch_size,\n",
    "                                    num_workers=8, shuffle=True)\n",
    "\n",
    "val_set = MTDataset(val_src_sentences_list, src_vocab_set,\n",
    "                    val_trg_sentences_list, trg_vocab_set, sampling=1.)\n",
    "val_data_loader = data.DataLoader(val_set, batch_size=batch_size, num_workers=8,\n",
    "                                  shuffle=False)"
   ]
  },
  {
   "cell_type": "markdown",
   "metadata": {
    "colab_type": "text",
    "id": "bWaiu7wNBX7x"
   },
   "source": [
    "The main functions for training, here we use perplexity to evaluate the performance of the model. Although we provide the training scripts here, we strongly encoureage you to go through and understand the procedure."
   ]
  },
  {
   "cell_type": "code",
   "execution_count": 0,
   "metadata": {
    "colab": {},
    "colab_type": "code",
    "id": "AXGa-L1qp13q"
   },
   "outputs": [],
   "source": [
    "import math\n",
    "\n",
    "\n",
    "class SimpleLossCompute:\n",
    "  \"\"\"A simple loss compute and train function.\"\"\"\n",
    "\n",
    "  def __init__(self, generator, criterion, opt=None):\n",
    "    self.generator = generator\n",
    "    self.criterion = criterion\n",
    "    self.opt = opt\n",
    "\n",
    "  def __call__(self, x, y, norm):\n",
    "    x = self.generator(x)\n",
    "    loss = self.criterion(x.contiguous().view(-1, x.size(-1)),\n",
    "                          y.contiguous().view(-1))\n",
    "    loss = loss / norm\n",
    "\n",
    "    if self.opt is not None:  # training mode\n",
    "      loss.backward()          \n",
    "      self.opt.step()\n",
    "      self.opt.zero_grad()\n",
    "\n",
    "    return loss.data.item() * norm\n",
    "\n",
    "\n",
    "def run_epoch(data_loader, model, loss_compute, print_every):\n",
    "  \"\"\"Standard Training and Logging Function\"\"\"\n",
    "\n",
    "  total_tokens = 0\n",
    "  total_loss = 0\n",
    "\n",
    "  for i, (src_ids_BxT, src_lengths_B, trg_ids_BxL, trg_lengths_B) in enumerate(data_loader):\n",
    "    # We define some notations here to help you understand the loaded tensor\n",
    "    # shapes:\n",
    "    #   `B`: batch size\n",
    "    #   `T`: max sequence length of source sentences\n",
    "    #   `L`: max sequence length of target sentences; due to our preprocessing\n",
    "    #        in the beginning, `L` == `T` == 50\n",
    "    # An example of `src_ids_BxT` (when B = 2):\n",
    "    #   [[2, 4, 6, 7, ..., 4, 3, 0, 0, 0],\n",
    "    #    [2, 8, 6, 5, ..., 9, 5, 4, 3, 0]]\n",
    "    # The corresponding `src_lengths_B` would be [47, 49].\n",
    "    # Note that SOS_INDEX == 2, EOS_INDEX == 3, and PAD_INDEX = 0.\n",
    "\n",
    "    src_ids_BxT = src_ids_BxT.to(device)\n",
    "    src_lengths_B = src_lengths_B.to(device)\n",
    "    trg_ids_BxL = trg_ids_BxL.to(device)\n",
    "    del trg_lengths_B   # unused\n",
    "\n",
    "    _, output = model(src_ids_BxT, trg_ids_BxL, src_lengths_B)\n",
    "\n",
    "    loss = loss_compute(x=output, y=trg_ids_BxL[:, 1:],\n",
    "                        norm=src_ids_BxT.size(0))\n",
    "    total_loss += loss\n",
    "    total_tokens += (trg_ids_BxL[:, 1:] != PAD_INDEX).data.sum().item()\n",
    "\n",
    "    if model.training and i % print_every == 0:\n",
    "      print(\"Epoch Step: %d Loss: %f\" % (i, loss / src_ids_BxT.size(0)))\n",
    "\n",
    "  return math.exp(total_loss / float(total_tokens))\n",
    "\n",
    "\n",
    "def train(model, num_epochs, learning_rate, print_every):\n",
    "  # Set `ignore_index` as PAD_INDEX so that pad tokens won't be included when\n",
    "  # computing the loss.\n",
    "  criterion = nn.NLLLoss(reduction=\"sum\", ignore_index=PAD_INDEX)\n",
    "  optim = torch.optim.Adam(model.parameters(), lr=learning_rate)\n",
    "\n",
    "  # Keep track of dev ppl for each epoch.\n",
    "  dev_ppls = []\n",
    "\n",
    "  for epoch in range(num_epochs):\n",
    "    print(\"Epoch\", epoch)\n",
    "\n",
    "    model.train()\n",
    "    train_ppl = run_epoch(data_loader=train_data_loader, model=model,\n",
    "                          loss_compute=SimpleLossCompute(model.generator,\n",
    "                                                         criterion, optim),\n",
    "                          print_every=print_every)\n",
    "        \n",
    "    model.eval()\n",
    "    with torch.no_grad():      \n",
    "      dev_ppl = run_epoch(data_loader=val_data_loader, model=model,\n",
    "                          loss_compute=SimpleLossCompute(model.generator,\n",
    "                                                         criterion, None),\n",
    "                          print_every=print_every)\n",
    "      print(\"Validation perplexity: %f\" % dev_ppl)\n",
    "      dev_ppls.append(dev_ppl)\n",
    "        \n",
    "  return dev_ppls"
   ]
  },
  {
   "cell_type": "markdown",
   "metadata": {
    "colab_type": "text",
    "id": "1A8VvkcICT60"
   },
   "source": [
    "The main function to perform training. First let's train the vanilla seq2seq model."
   ]
  },
  {
   "cell_type": "code",
   "execution_count": 0,
   "metadata": {
    "colab": {
     "base_uri": "https://localhost:8080/",
     "height": 71
    },
    "colab_type": "code",
    "executionInfo": {
     "elapsed": 9860,
     "status": "ok",
     "timestamp": 1587835732356,
     "user": {
      "displayName": "ByeongJo Kong",
      "photoUrl": "https://lh3.googleusercontent.com/a-/AOh14GjB3OJt2FV1VBgbxRHjhh6mK4NBkVW9ONJVSMVJ=s64",
      "userId": "10931837966081205326"
     },
     "user_tz": 240
    },
    "id": "pZ0t1hXAIHtO",
    "outputId": "71ecebcd-16ea-4344-92f0-1694e98f2e8e"
   },
   "outputs": [
    {
     "name": "stderr",
     "output_type": "stream",
     "text": [
      "/usr/local/lib/python3.6/dist-packages/torch/nn/modules/rnn.py:50: UserWarning: dropout option adds dropout after all but last recurrent layer, so non-zero dropout expects num_layers greater than 1, but got dropout=0.2 and num_layers=1\n",
      "  \"num_layers={}\".format(dropout, num_layers))\n"
     ]
    }
   ],
   "source": [
    "# Hyperparameters for contructing the encoder-decoder model.\n",
    "\n",
    "embed_size = 256   # Each word will be represented as a `embed_size`-dim vector.\n",
    "hidden_size = 256  # RNN hidden size.\n",
    "dropout = 0.2\n",
    "\n",
    "pure_seq2seq = EncoderDecoder(\n",
    "  encoder=Encoder(embed_size, hidden_size, dropout=dropout),\n",
    "  decoder=Decoder(embed_size, hidden_size, dropout=dropout),\n",
    "  src_embed=nn.Embedding(len(src_vocab_set), embed_size),\n",
    "  trg_embed=nn.Embedding(len(trg_vocab_set), embed_size),\n",
    "  generator=Generator(hidden_size, len(trg_vocab_set))).to(device)\n",
    "\n",
    "# Start training. The returned `dev_ppls` is a list of dev perplexity for each\n",
    "# epoch.\n",
    "#pure_dev_ppls = train(pure_seq2seq, num_epochs=10, learning_rate=1e-3,\n",
    "#                      print_every=100)"
   ]
  },
  {
   "cell_type": "markdown",
   "metadata": {
    "colab_type": "text",
    "id": "fRsfDg0wCa7U"
   },
   "source": [
    "Plot the perplexity graph."
   ]
  },
  {
   "cell_type": "code",
   "execution_count": 0,
   "metadata": {
    "colab": {
     "base_uri": "https://localhost:8080/",
     "height": 295
    },
    "colab_type": "code",
    "executionInfo": {
     "elapsed": 1254,
     "status": "ok",
     "timestamp": 1587796752300,
     "user": {
      "displayName": "ByeongJo Kong",
      "photoUrl": "https://lh3.googleusercontent.com/a-/AOh14GjB3OJt2FV1VBgbxRHjhh6mK4NBkVW9ONJVSMVJ=s64",
      "userId": "10931837966081205326"
     },
     "user_tz": 240
    },
    "id": "CTApnlT53YvT",
    "outputId": "bbdb88bb-4b4f-46de-9ea2-a6afa3335fe9"
   },
   "outputs": [
    {
     "data": {
      "image/png": "[encoded data removed]",
      "text/plain": [
       "<Figure size 432x288 with 1 Axes>"
      ]
     },
     "metadata": {
      "needs_background": "light",
      "tags": []
     },
     "output_type": "display_data"
    }
   ],
   "source": [
    "def plot_perplexity(perplexities):\n",
    "  \"\"\"plot perplexities\"\"\"\n",
    "  plt.title(\"Perplexity per Epoch\")\n",
    "  plt.xlabel(\"Epoch\")\n",
    "  plt.ylabel(\"Perplexity\")\n",
    "  plt.plot(perplexities)\n",
    "\n",
    "plot_perplexity(pure_dev_ppls)"
   ]
  },
  {
   "cell_type": "markdown",
   "metadata": {
    "colab_type": "text",
    "id": "PjhKXDyvIk4l"
   },
   "source": [
    "Now, let's train the seq2seq model with attention."
   ]
  },
  {
   "cell_type": "code",
   "execution_count": 0,
   "metadata": {
    "colab": {
     "base_uri": "https://localhost:8080/",
     "height": 71
    },
    "colab_type": "code",
    "executionInfo": {
     "elapsed": 315,
     "status": "ok",
     "timestamp": 1587835735574,
     "user": {
      "displayName": "ByeongJo Kong",
      "photoUrl": "https://lh3.googleusercontent.com/a-/AOh14GjB3OJt2FV1VBgbxRHjhh6mK4NBkVW9ONJVSMVJ=s64",
      "userId": "10931837966081205326"
     },
     "user_tz": 240
    },
    "id": "onQxDU-aGa0t",
    "outputId": "aa8541a0-5a42-4cce-e2c8-12c1e687e85c"
   },
   "outputs": [
    {
     "name": "stderr",
     "output_type": "stream",
     "text": [
      "/usr/local/lib/python3.6/dist-packages/torch/nn/modules/rnn.py:50: UserWarning: dropout option adds dropout after all but last recurrent layer, so non-zero dropout expects num_layers greater than 1, but got dropout=0.2 and num_layers=1\n",
      "  \"num_layers={}\".format(dropout, num_layers))\n"
     ]
    }
   ],
   "source": [
    "attn_seq2seq = EncoderAttentionDecoder(\n",
    "    encoder=Encoder(embed_size, hidden_size, dropout=dropout),\n",
    "    decoder=AttentionDecoder(embed_size, hidden_size, dropout=dropout),\n",
    "    src_embed=nn.Embedding(len(src_vocab_set), embed_size),\n",
    "    trg_embed=nn.Embedding(len(trg_vocab_set), embed_size),\n",
    "    generator=Generator(hidden_size, len(trg_vocab_set))).to(device)\n",
    "\n",
    "#attn_dev_ppls = train(attn_seq2seq, num_epochs=10, learning_rate=1e-3,\n",
    "#                      print_every=100)\n",
    "\n",
    "#plot_perplexity(attn_dev_ppls)"
   ]
  },
  {
   "cell_type": "markdown",
   "metadata": {
    "colab_type": "text",
    "id": "VMpL-_MwJOws"
   },
   "source": [
    "This is the function used to decode the model output. For simplicity, we use greedy search here."
   ]
  },
  {
   "cell_type": "code",
   "execution_count": 0,
   "metadata": {
    "colab": {},
    "colab_type": "code",
    "id": "M1HTqYwy6-yL"
   },
   "outputs": [],
   "source": [
    "def greedy_decode(model, src_ids, src_lengths, max_len):\n",
    "  \"\"\"Greedily decode a sentence for EncoderDecoder.\"\"\"\n",
    "\n",
    "  with torch.no_grad():\n",
    "    _, encoder_finals = model.encode(src_ids, src_lengths)\n",
    "    prev_y = torch.ones(1, 1).fill_(SOS_INDEX).type_as(src_ids)\n",
    "\n",
    "  output = []\n",
    "  hidden = None\n",
    "\n",
    "  for i in range(max_len):\n",
    "    with torch.no_grad():\n",
    "      hidden, outputs = model.decode(encoder_finals, prev_y, hidden)\n",
    "      prob = model.generator(outputs[:, -1])\n",
    "\n",
    "    _, next_word = torch.max(prob, dim=1)\n",
    "    next_word = next_word.data.item()\n",
    "    output.append(next_word)\n",
    "    prev_y = torch.ones(1, 1).type_as(src_ids).fill_(next_word)\n",
    "\n",
    "  output = np.array(output)\n",
    "\n",
    "  # Cut off everything starting from </s>.\n",
    "  first_eos = np.where(output == EOS_INDEX)[0]\n",
    "  if len(first_eos) > 0:\n",
    "    output = output[:first_eos[0]]\n",
    "  return output\n",
    "\n",
    "\n",
    "def greedy_decode_attention(model, src_ids, src_lengths, max_len):\n",
    "  \"\"\"Greedily decode a sentence for EncoderAttentionDecoder.\"\"\"\n",
    "\n",
    "  with torch.no_grad():\n",
    "    src_mask = (src_ids != PAD_INDEX).unsqueeze(-2)\n",
    "    encoder_hiddens, encoder_finals = model.encode(src_ids, src_lengths)\n",
    "    prev_y = torch.ones(1, 1).fill_(SOS_INDEX).type_as(src_ids)\n",
    "    trg_mask = torch.ones_like(prev_y)\n",
    "\n",
    "  output = []\n",
    "  attention_scores = []\n",
    "  hidden = None\n",
    "\n",
    "  for i in range(max_len):\n",
    "    with torch.no_grad():\n",
    "      hidden, outputs = model.decode(encoder_hiddens, encoder_finals, src_mask,\n",
    "                                     prev_y, trg_mask, hidden)\n",
    "      prob = model.generator(outputs[:, -1])\n",
    "\n",
    "    _, next_word = torch.max(prob, dim=1)\n",
    "    next_word = next_word.data.item()\n",
    "    output.append(next_word)\n",
    "    prev_y = torch.ones(1, 1).fill_(next_word).type_as(src_ids)\n",
    "    attention_scores.append(model.decoder.alphas.cpu().numpy())\n",
    "\n",
    "  output = np.array(output)\n",
    "\n",
    "  # Cut off everything starting from </s>.\n",
    "  first_eos = np.where(output == EOS_INDEX)[0]\n",
    "  if len(first_eos) > 0:\n",
    "    output = output[:first_eos[0]]\n",
    "\n",
    "  return output, np.concatenate(attention_scores, axis=1)\n",
    "  \n",
    "def lookup_words(x, vocab):\n",
    "  return [vocab[i] for i in x]"
   ]
  },
  {
   "cell_type": "markdown",
   "metadata": {
    "colab_type": "text",
    "id": "d_5go3VxJZKh"
   },
   "source": [
    "Print the top 3 examples from the data loader by applying the greedy decoder."
   ]
  },
  {
   "cell_type": "code",
   "execution_count": 0,
   "metadata": {
    "colab": {},
    "colab_type": "code",
    "id": "cc3m4optFrb3"
   },
   "outputs": [],
   "source": [
    "def print_examples(model, data_loader, n=3,\n",
    "                   max_len=MAX_SENT_LENGTH_PLUS_SOS_EOS, \n",
    "                   src_vocab_set=src_vocab_set, trg_vocab_set=trg_vocab_set):\n",
    "  \"\"\"Prints `n` examples. Assumes batch size of 1.\"\"\"\n",
    "\n",
    "  model.eval()\n",
    "\n",
    "  for i, (src_ids, src_lengths, trg_ids, _) in enumerate(data_loader):\n",
    "    if isinstance(model, EncoderDecoder):\n",
    "      result = greedy_decode(model, src_ids.to(device), src_lengths.to(device),\n",
    "                             max_len=max_len)\n",
    "    elif isinstance(model, EncoderAttentionDecoder):\n",
    "      result, _ = greedy_decode_attention(model, src_ids.to(device),\n",
    "                                          src_lengths.to(device),\n",
    "                                          max_len=max_len)\n",
    "    else:\n",
    "      raise NotImplementedError(\"Unknown model type.\")\n",
    "\n",
    "    # remove <s>\n",
    "    src_ids = src_ids[0, 1:]\n",
    "    trg_ids = trg_ids[0, 1:]\n",
    "    # remove </s> and <pad>\n",
    "    src_ids = src_ids[:np.where(src_ids == EOS_INDEX)[0][0]]\n",
    "    trg_ids = trg_ids[:np.where(trg_ids == EOS_INDEX)[0][0]]\n",
    "\n",
    "    print(\"Example #%d\" % (i + 1))\n",
    "    print(\"Src : \", \" \".join(lookup_words(src_ids, vocab=src_vocab_set)))\n",
    "    print(\"Trg : \", \" \".join(lookup_words(trg_ids, vocab=trg_vocab_set)))\n",
    "    print(\"Pred: \", \" \".join(lookup_words(result, vocab=trg_vocab_set)))\n",
    "    print()\n",
    "\n",
    "    if i == n - 1:\n",
    "      break"
   ]
  },
  {
   "cell_type": "markdown",
   "metadata": {
    "colab_type": "text",
    "id": "l7Hi4X0GJouK"
   },
   "source": [
    "Here we use the validation dataset to print examples."
   ]
  },
  {
   "cell_type": "code",
   "execution_count": 0,
   "metadata": {
    "colab": {
     "base_uri": "https://localhost:8080/",
     "height": 547
    },
    "colab_type": "code",
    "executionInfo": {
     "elapsed": 1695,
     "status": "ok",
     "timestamp": 1587798596273,
     "user": {
      "displayName": "ByeongJo Kong",
      "photoUrl": "https://lh3.googleusercontent.com/a-/AOh14GjB3OJt2FV1VBgbxRHjhh6mK4NBkVW9ONJVSMVJ=s64",
      "userId": "10931837966081205326"
     },
     "user_tz": 240
    },
    "id": "27thJIfreCgB",
    "outputId": "e3e02ed4-8dc4-4eb5-c53f-a8d96d1f5535"
   },
   "outputs": [
    {
     "name": "stdout",
     "output_type": "stream",
     "text": [
      "Example #1\n",
      "Src :  Khoa học đằng sau một tiêu đề về khí hậu\n",
      "Trg :  Rachel <unk> : The science behind a climate headline\n",
      "Pred:  Science : The problem of the climate crisis .\n",
      "\n",
      "Example #2\n",
      "Src :  Tôi muốn cho các bạn biết về sự to lớn của những nỗ lực khoa học đã góp phần làm nên các dòng tít bạn thường thấy trên báo .\n",
      "Trg :  I &apos;d like to talk to you today about the scale of the scientific effort that goes into making the headlines you see in the paper .\n",
      "Pred:  I want to tell you about the public health of the <unk> that &apos;s going to be so much more difficult to see .\n",
      "\n",
      "Example #3\n",
      "Src :  Có những dòng trông như thế này khi bàn về biến đổi khí hậu , và như thế này khi nói về chất lượng không khí hay khói bụi .\n",
      "Trg :  <unk> that look like this when they have to do with climate change , and headlines that look like this when they have to do with air quality or smog .\n",
      "Pred:  There are the things that look like this , and if it &apos;s like the air , it &apos;s like the <unk> <unk> .\n",
      "\n",
      "Example #1\n",
      "Src :  Khoa học đằng sau một tiêu đề về khí hậu\n",
      "Trg :  Rachel <unk> : The science behind a climate headline\n",
      "Pred:  Science is a climate change on the climate .\n",
      "\n",
      "Example #2\n",
      "Src :  Tôi muốn cho các bạn biết về sự to lớn của những nỗ lực khoa học đã góp phần làm nên các dòng tít bạn thường thấy trên báo .\n",
      "Trg :  I &apos;d like to talk to you today about the scale of the scientific effort that goes into making the headlines you see in the paper .\n",
      "Pred:  I want to tell you about the big <unk> of science that takes the way to make you all the time .\n",
      "\n",
      "Example #3\n",
      "Src :  Có những dòng trông như thế này khi bàn về biến đổi khí hậu , và như thế này khi nói về chất lượng không khí hay khói bụi .\n",
      "Trg :  <unk> that look like this when they have to do with climate change , and headlines that look like this when they have to do with air quality or smog .\n",
      "Pred:  There are these lines of these things when they talk about climate change , and like this , when you talk about quality of air or smoke .\n",
      "\n"
     ]
    }
   ],
   "source": [
    "example_set = MTDataset(val_src_sentences_list, src_vocab_set,\n",
    "                        val_trg_sentences_list, trg_vocab_set)\n",
    "example_data_loader = data.DataLoader(val_set, batch_size=1, num_workers=1,\n",
    "                                      shuffle=False)\n",
    "\n",
    "print_examples(pure_seq2seq, example_data_loader)\n",
    "\n",
    "print_examples(attn_seq2seq, example_data_loader)"
   ]
  },
  {
   "cell_type": "markdown",
   "metadata": {
    "colab_type": "text",
    "id": "H5pTV5PqJtX4"
   },
   "source": [
    "Compute the BLEU score. BLEU score is a standard measure to evaluate the translation results. For further details, you can refer to [this](https://en.wikipedia.org/wiki/BLEU) link."
   ]
  },
  {
   "cell_type": "code",
   "execution_count": 0,
   "metadata": {
    "colab": {
     "base_uri": "https://localhost:8080/",
     "height": 85
    },
    "colab_type": "code",
    "executionInfo": {
     "elapsed": 118734,
     "status": "ok",
     "timestamp": 1587798119996,
     "user": {
      "displayName": "ByeongJo Kong",
      "photoUrl": "https://lh3.googleusercontent.com/a-/AOh14GjB3OJt2FV1VBgbxRHjhh6mK4NBkVW9ONJVSMVJ=s64",
      "userId": "10931837966081205326"
     },
     "user_tz": 240
    },
    "id": "6XGQYwHRPyne",
    "outputId": "a9f8ad70-09f8-478d-c1e3-a695a9f65210"
   },
   "outputs": [
    {
     "name": "stderr",
     "output_type": "stream",
     "text": [
      "100%|██████████| 1139/1139 [00:50<00:00, 22.77it/s]\n",
      "  0%|          | 0/1139 [00:00<?, ?it/s]"
     ]
    },
    {
     "name": "stdout",
     "output_type": "stream",
     "text": [
      "BLEU score: 6.825054\n"
     ]
    },
    {
     "name": "stderr",
     "output_type": "stream",
     "text": [
      "100%|██████████| 1139/1139 [01:07<00:00, 16.83it/s]"
     ]
    },
    {
     "name": "stdout",
     "output_type": "stream",
     "text": [
      "BLEU score: 15.098443\n"
     ]
    },
    {
     "name": "stderr",
     "output_type": "stream",
     "text": [
      "\n"
     ]
    }
   ],
   "source": [
    "import sacrebleu\n",
    "from tqdm import tqdm\n",
    "\n",
    "\n",
    "def compute_BLEU(model, data_loader):\n",
    "  bleu_score = []\n",
    "\n",
    "  model.eval()\n",
    "  for src_ids, src_lengths, trg_ids, _ in tqdm(data_loader):\n",
    "    if isinstance(model, EncoderDecoder):\n",
    "      result = greedy_decode(model, src_ids.to(device), src_lengths.to(device),\n",
    "                             max_len=MAX_SENT_LENGTH_PLUS_SOS_EOS)\n",
    "    elif isinstance(model, EncoderAttentionDecoder):\n",
    "      result, _ = greedy_decode_attention(model, src_ids.to(device),\n",
    "                                          src_lengths.to(device),\n",
    "                                          max_len=MAX_SENT_LENGTH_PLUS_SOS_EOS)\n",
    "    # remove <s>\n",
    "    src_ids = src_ids[0, 1:]\n",
    "    trg_ids = trg_ids[0, 1:]\n",
    "    # remove </s> and <pad>\n",
    "    src_ids = src_ids[:np.where(src_ids == EOS_INDEX)[0][0]]\n",
    "    trg_ids = trg_ids[:np.where(trg_ids == EOS_INDEX)[0][0]]\n",
    "\n",
    "    pred = \" \".join(lookup_words(result, vocab=trg_vocab_set))\n",
    "    targ = \" \".join(lookup_words(trg_ids, vocab=trg_vocab_set))\n",
    "\n",
    "    bleu_score.append(sacrebleu.raw_corpus_bleu([pred], [[targ]], .01).score)\n",
    "\n",
    "  return bleu_score\n",
    "\n",
    "\n",
    "test_set = MTDataset(test_src_sentences_list, src_vocab_set,\n",
    "                     test_trg_sentences_list, trg_vocab_set, sampling=1.)\n",
    "test_data_loader = data.DataLoader(test_set, batch_size=1, num_workers=8,\n",
    "                                   shuffle=False)\n",
    "\n",
    "print('BLEU score: %f' % (np.mean(compute_BLEU(pure_seq2seq,\n",
    "                                               test_data_loader))))\n",
    "print('BLEU score: %f' % (np.mean(compute_BLEU(attn_seq2seq,\n",
    "                                               test_data_loader))))"
   ]
  },
  {
   "cell_type": "markdown",
   "metadata": {
    "colab_type": "text",
    "id": "aVxViAwwxo6U"
   },
   "source": [
    "### **Visualizing Attention**"
   ]
  },
  {
   "cell_type": "code",
   "execution_count": 0,
   "metadata": {
    "colab": {
     "base_uri": "https://localhost:8080/",
     "height": 34
    },
    "colab_type": "code",
    "executionInfo": {
     "elapsed": 237,
     "status": "ok",
     "timestamp": 1587835678923,
     "user": {
      "displayName": "ByeongJo Kong",
      "photoUrl": "https://lh3.googleusercontent.com/a-/AOh14GjB3OJt2FV1VBgbxRHjhh6mK4NBkVW9ONJVSMVJ=s64",
      "userId": "10931837966081205326"
     },
     "user_tz": 240
    },
    "id": "rLyxyIcDMlRE",
    "outputId": "09abc206-8d49-4e2b-9ea9-633918ce7f2a"
   },
   "outputs": [
    {
     "data": {
      "text/plain": [
       "<torch.utils.data.dataloader.DataLoader at 0x7f3a7280fac8>"
      ]
     },
     "execution_count": 16,
     "metadata": {
      "tags": []
     },
     "output_type": "execute_result"
    }
   ],
   "source": [
    "map_loader = data.DataLoader(val_set, batch_size=1, num_workers=1,shuffle=False)\n",
    "map_loader"
   ]
  },
  {
   "cell_type": "code",
   "execution_count": 0,
   "metadata": {
    "colab": {
     "base_uri": "https://localhost:8080/",
     "height": 34
    },
    "colab_type": "code",
    "executionInfo": {
     "elapsed": 399,
     "status": "ok",
     "timestamp": 1587835937332,
     "user": {
      "displayName": "ByeongJo Kong",
      "photoUrl": "https://lh3.googleusercontent.com/a-/AOh14GjB3OJt2FV1VBgbxRHjhh6mK4NBkVW9ONJVSMVJ=s64",
      "userId": "10931837966081205326"
     },
     "user_tz": 240
    },
    "id": "0pogoWfvXn_Q",
    "outputId": "89942520-ae48-4c55-c642-ec148a0101d1"
   },
   "outputs": [
    {
     "name": "stdout",
     "output_type": "stream",
     "text": [
      "torch.Size([1, 17192])\n"
     ]
    }
   ],
   "source": [
    "src_ids, src_lengths, trg_ids, _ = next(iter(map_loader))\n",
    "max_len=MAX_SENT_LENGTH_PLUS_SOS_EOS\n",
    "model=attn_seq2seq\n",
    "#src_ids_origin=src_ids\n",
    "\n",
    "with torch.no_grad():\n",
    "  src_mask = (src_ids != PAD_INDEX).unsqueeze(-2)\n",
    "  encoder_hiddens, encoder_finals = model.encode(src_ids.to(device), src_lengths)\n",
    "  prev_y = torch.ones(1, 1).fill_(SOS_INDEX).type_as(src_ids)\n",
    "  trg_mask = torch.ones_like(prev_y)\n",
    "\n",
    "output = []\n",
    "attention_scores = []\n",
    "hidden = None\n",
    "\n",
    "for i in range(max_len):\n",
    "  with torch.no_grad():\n",
    "    hidden, outputs = model.decode(encoder_hiddens, encoder_finals, src_mask.to(device),\n",
    "                                   prev_y.to(device), trg_mask.to(device), hidden)\n",
    "    prob = model.generator(outputs[:, -1])\n",
    "\n",
    "  _, next_word = torch.max(prob, dim=1)\n",
    "  next_word = next_word.data.item()\n",
    "  output.append(next_word)\n",
    "  prev_y = torch.ones(1, 1).fill_(next_word).type_as(src_ids)\n",
    "  attention_scores.append(model.decoder.alphas.cpu().numpy())\n",
    "\n",
    "output = np.array(output)\n",
    "print(prob.size())"
   ]
  },
  {
   "cell_type": "code",
   "execution_count": 0,
   "metadata": {
    "colab": {
     "base_uri": "https://localhost:8080/",
     "height": 357
    },
    "colab_type": "code",
    "executionInfo": {
     "elapsed": 1206,
     "status": "ok",
     "timestamp": 1587807978136,
     "user": {
      "displayName": "ByeongJo Kong",
      "photoUrl": "https://lh3.googleusercontent.com/a-/AOh14GjB3OJt2FV1VBgbxRHjhh6mK4NBkVW9ONJVSMVJ=s64",
      "userId": "10931837966081205326"
     },
     "user_tz": 240
    },
    "id": "VJt-4vjurWIU",
    "outputId": "11b92f14-4548-4887-ea3a-17b6b8a54d29"
   },
   "outputs": [
    {
     "name": "stdout",
     "output_type": "stream",
     "text": [
      "tensor([ 4,  5,  6,  7,  8,  9, 10, 11, 12, 13])\n",
      "tensor([ 4,  1,  5,  6,  7,  8,  9, 10, 11])\n",
      "[6574  122    9   10   28   27   21   10   47]\n",
      "9\n",
      "tensor([[[0.0581, 0.0590, 0.0406, 0.0305, 0.0367, 0.0244, 0.0523, 0.0440,\n",
      "          0.0376, 0.0850, 0.1390, 0.3928, 0.0000, 0.0000, 0.0000, 0.0000,\n",
      "          0.0000, 0.0000, 0.0000, 0.0000, 0.0000, 0.0000, 0.0000, 0.0000,\n",
      "          0.0000, 0.0000, 0.0000, 0.0000, 0.0000, 0.0000, 0.0000, 0.0000,\n",
      "          0.0000, 0.0000, 0.0000, 0.0000, 0.0000, 0.0000, 0.0000, 0.0000,\n",
      "          0.0000, 0.0000, 0.0000, 0.0000, 0.0000, 0.0000, 0.0000, 0.0000,\n",
      "          0.0000, 0.0000]]], device='cuda:0')\n",
      "<bound method AttentionDecoder.attention of AttentionDecoder(\n",
      "  (rnn): GRU(512, 256, batch_first=True, dropout=0.2)\n",
      "  (query): Linear(in_features=256, out_features=256, bias=False)\n",
      "  (energy): Linear(in_features=256, out_features=1, bias=False)\n",
      "  (key): Linear(in_features=256, out_features=256, bias=False)\n",
      "  (dropout): Dropout(p=0.2, inplace=False)\n",
      "  (pre_output): Linear(in_features=768, out_features=256, bias=False)\n",
      "  (f_hidden): Linear(in_features=256, out_features=256, bias=True)\n",
      ")>\n"
     ]
    }
   ],
   "source": [
    "src_ids, src_lengths, trg_ids, _ = next(iter(map_loader))\n",
    "max_len=MAX_SENT_LENGTH_PLUS_SOS_EOS\n",
    "model=attn_seq2seq\n",
    "src_ids_origin=src_ids\n",
    "#print(\"src_ids\",src_ids)\n",
    "#print(\"length\",src_lengths)\n",
    "#print(\"trg_ids\",trg_ids)\n",
    "\n",
    "pred, attn = greedy_decode_attention(model, src_ids.to(device),\n",
    "                                     src_lengths.to(device),\n",
    "                                     max_len=MAX_SENT_LENGTH_PLUS_SOS_EOS)\n",
    "\n",
    "# remove <s>\n",
    "src_ids = src_ids[0, 1:]\n",
    "trg_ids = trg_ids[0, 1:]\n",
    "# remove </s> and <pad>\n",
    "src_ids = src_ids[:np.where(src_ids == EOS_INDEX)[0][0]]\n",
    "trg_ids = trg_ids[:np.where(trg_ids == EOS_INDEX)[0][0]]\n",
    "\n",
    "print(src_ids)\n",
    "print(trg_ids)\n",
    "print(pred)\n",
    "print(len(attn[0,:len(pred)]))\n",
    "print(attn_seq2seq.decoder.alphas)\n",
    "\n",
    "\n",
    "print(attn)\n",
    "\n",
    "\n",
    "#plot_heatmap(src, pred, pred_att)"
   ]
  },
  {
   "cell_type": "code",
   "execution_count": 0,
   "metadata": {
    "colab": {
     "base_uri": "https://localhost:8080/",
     "height": 402
    },
    "colab_type": "code",
    "executionInfo": {
     "elapsed": 1255,
     "status": "error",
     "timestamp": 1587806704999,
     "user": {
      "displayName": "ByeongJo Kong",
      "photoUrl": "https://lh3.googleusercontent.com/a-/AOh14GjB3OJt2FV1VBgbxRHjhh6mK4NBkVW9ONJVSMVJ=s64",
      "userId": "10931837966081205326"
     },
     "user_tz": 240
    },
    "id": "VCVdq__OLt8e",
    "outputId": "f09628de-2869-481b-dc86-78f5c6c8593e"
   },
   "outputs": [
    {
     "name": "stdout",
     "output_type": "stream",
     "text": [
      "src_ids tensor([[ 2,  4,  5,  6,  7,  8,  9, 10, 11, 12, 13,  3,  0,  0,  0,  0,  0,  0,\n",
      "          0,  0,  0,  0,  0,  0,  0,  0,  0,  0,  0,  0,  0,  0,  0,  0,  0,  0,\n",
      "          0,  0,  0,  0,  0,  0,  0,  0,  0,  0,  0,  0,  0,  0]])\n",
      "length tensor([12])\n",
      "trg_ids tensor([[ 2,  4,  1,  5,  6,  7,  8,  9, 10, 11,  3,  0,  0,  0,  0,  0,  0,  0,\n",
      "          0,  0,  0,  0,  0,  0,  0,  0,  0,  0,  0,  0,  0,  0,  0,  0,  0,  0,\n",
      "          0,  0,  0,  0,  0,  0,  0,  0,  0,  0,  0,  0,  0,  0]])\n",
      "Src :  Khoa học đằng sau một tiêu đề về khí hậu\n",
      "Trg :  Rachel <unk> : The science behind a climate headline\n",
      "Pred:  Science is a climate change on the climate .\n"
     ]
    },
    {
     "ename": "AttributeError",
     "evalue": "ignored",
     "output_type": "error",
     "traceback": [
      "\u001b[0;31m---------------------------------------------------------------------------\u001b[0m",
      "\u001b[0;31mAttributeError\u001b[0m                            Traceback (most recent call last)",
      "\u001b[0;32m<ipython-input-131-871a69d946ab>\u001b[0m in \u001b[0;36m<module>\u001b[0;34m()\u001b[0m\n\u001b[1;32m     54\u001b[0m \u001b[0msrc\u001b[0m \u001b[0;34m=\u001b[0m \u001b[0mlookup_words\u001b[0m\u001b[0;34m(\u001b[0m\u001b[0msrc_ids\u001b[0m\u001b[0;34m,\u001b[0m \u001b[0mvocab\u001b[0m\u001b[0;34m=\u001b[0m\u001b[0msrc_vocab_set\u001b[0m\u001b[0;34m)\u001b[0m \u001b[0;34m+\u001b[0m \u001b[0;34m[\u001b[0m\u001b[0;34m\"</s>\"\u001b[0m\u001b[0;34m]\u001b[0m\u001b[0;34m\u001b[0m\u001b[0;34m\u001b[0m\u001b[0m\n\u001b[1;32m     55\u001b[0m \u001b[0mtrg\u001b[0m \u001b[0;34m=\u001b[0m \u001b[0mlookup_words\u001b[0m\u001b[0;34m(\u001b[0m\u001b[0mtrg_ids\u001b[0m\u001b[0;34m,\u001b[0m \u001b[0mvocab\u001b[0m\u001b[0;34m=\u001b[0m\u001b[0mtrg_vocab_set\u001b[0m\u001b[0;34m)\u001b[0m \u001b[0;34m+\u001b[0m \u001b[0;34m[\u001b[0m\u001b[0;34m\"</s>\"\u001b[0m\u001b[0;34m]\u001b[0m\u001b[0;34m\u001b[0m\u001b[0;34m\u001b[0m\u001b[0m\n\u001b[0;32m---> 56\u001b[0;31m \u001b[0mpred\u001b[0m \u001b[0;34m=\u001b[0m \u001b[0mlookup_words\u001b[0m\u001b[0;34m(\u001b[0m\u001b[0moutput\u001b[0m\u001b[0;34m,\u001b[0m \u001b[0mvocab\u001b[0m\u001b[0;34m=\u001b[0m\u001b[0mtrg_vocab_set\u001b[0m\u001b[0;34m)\u001b[0m\u001b[0;34m.\u001b[0m\u001b[0msplit\u001b[0m\u001b[0;34m(\u001b[0m\u001b[0;34m)\u001b[0m \u001b[0;34m+\u001b[0m \u001b[0;34m[\u001b[0m\u001b[0;34m\"xx\"\u001b[0m\u001b[0;34m]\u001b[0m \u001b[0;34m+\u001b[0m \u001b[0;34m[\u001b[0m\u001b[0;34m\"</s>\"\u001b[0m\u001b[0;34m]\u001b[0m\u001b[0;34m\u001b[0m\u001b[0;34m\u001b[0m\u001b[0m\n\u001b[0m\u001b[1;32m     57\u001b[0m \u001b[0;31m#pred_att = alphas[idx][0].T[:, :len(pred)]\u001b[0m\u001b[0;34m\u001b[0m\u001b[0;34m\u001b[0m\u001b[0;34m\u001b[0m\u001b[0m\n\u001b[1;32m     58\u001b[0m \u001b[0mpred_att\u001b[0m \u001b[0;34m=\u001b[0m \u001b[0mattn_seq2seq\u001b[0m\u001b[0;34m.\u001b[0m\u001b[0mdecoder\u001b[0m\u001b[0;34m.\u001b[0m\u001b[0malphas\u001b[0m\u001b[0;34m.\u001b[0m\u001b[0mcpu\u001b[0m\u001b[0;34m(\u001b[0m\u001b[0;34m)\u001b[0m\u001b[0;34m.\u001b[0m\u001b[0mnumpy\u001b[0m\u001b[0;34m(\u001b[0m\u001b[0;34m)\u001b[0m\u001b[0;34m.\u001b[0m\u001b[0mT\u001b[0m\u001b[0;34m[\u001b[0m\u001b[0;34m:\u001b[0m\u001b[0mlen\u001b[0m\u001b[0;34m(\u001b[0m\u001b[0mpred\u001b[0m\u001b[0;34m)\u001b[0m\u001b[0;34m]\u001b[0m\u001b[0;34m\u001b[0m\u001b[0;34m\u001b[0m\u001b[0m\n",
      "\u001b[0;31mAttributeError\u001b[0m: 'list' object has no attribute 'split'"
     ]
    }
   ],
   "source": [
    "\n",
    "\n",
    "\n",
    "\n",
    "\n",
    "\n",
    "\n",
    "with torch.no_grad():\n",
    "  src_mask = (src_ids != PAD_INDEX).unsqueeze(-2)\n",
    "  encoder_hiddens, encoder_finals = attn_seq2seq.encode(src_ids.to(device), src_lengths)\n",
    "  prev_y = torch.ones(1, 1).fill_(SOS_INDEX).type_as(src_ids)\n",
    "  trg_mask = torch.ones_like(prev_y)\n",
    "\n",
    "  output = []\n",
    "  attention_scores = []\n",
    "  hidden = None\n",
    "\n",
    "  for i in range(max_len):\n",
    "    with torch.no_grad():\n",
    "      hidden, outputs = attn_seq2seq.decode(encoder_hiddens, encoder_finals, src_mask.to(device),\n",
    "                                     prev_y.to(device), trg_mask.to(device), hidden)\n",
    "      prob = attn_seq2seq.generator(outputs[:, -1])\n",
    "\n",
    "    _, next_word = torch.max(prob, dim=1)\n",
    "    next_word = next_word.data.item()\n",
    "    output.append(next_word)\n",
    "    prev_y = torch.ones(1, 1).fill_(next_word).type_as(src_ids)\n",
    "    attention_scores.append(attn_seq2seq.decoder.alphas.cpu().numpy())\n",
    "\n",
    "  output = np.array(output)\n",
    "\n",
    "  # Cut off everything starting from </s>.\n",
    "  first_eos = np.where(output == EOS_INDEX)[0]\n",
    "  if len(first_eos) > 0:\n",
    "    output = output[:first_eos[0]]\n",
    "\n",
    "\n",
    "\n",
    "\n",
    "# remove <s>\n",
    "src_ids = src_ids[0, 1:]\n",
    "trg_ids = trg_ids[0, 1:]\n",
    "# remove </s> and <pad>\n",
    "src_ids = src_ids[:np.where(src_ids == EOS_INDEX)[0][0]]\n",
    "trg_ids = trg_ids[:np.where(trg_ids == EOS_INDEX)[0][0]]\n",
    "\n",
    "print(\"Src : \", \" \".join(lookup_words(src_ids, vocab=src_vocab_set)))\n",
    "print(\"Trg : \", \" \".join(lookup_words(trg_ids, vocab=trg_vocab_set)))\n",
    "print(\"Pred: \", \" \".join(lookup_words(output, vocab=trg_vocab_set)))\n",
    "\n",
    "\n",
    "idx = 5\n",
    "src = lookup_words(src_ids, vocab=src_vocab_set) + [\"</s>\"]\n",
    "trg = lookup_words(trg_ids, vocab=trg_vocab_set) + [\"</s>\"]\n",
    "pred = lookup_words(output, vocab=trg_vocab_set).split + [\"xx\"] + [\"</s>\"]\n",
    "#pred_att = alphas[idx][0].T[:, :len(pred)]\n",
    "pred_att = attn_seq2seq.decoder.alphas.cpu().numpy().T[:len(pred)]\n",
    "#pred_att=np.concatenate(attention_scores, axis=1)\n",
    "print(len(pred))\n",
    "print(len(src))\n",
    "print(len(pred_att))\n",
    "print(\"attention:\",np.concatenate(attention_scores, axis=1))\n",
    "print(\"ref\", trg)\n",
    "print(\"pred\", pred)\n",
    "plot_heatmap(src, pred, pred_att)\n",
    "\n",
    "\"\"\"\n",
    "src_list=lookup_words(src_ids, vocab=src_vocab_set) + [\"</s>\"]\n",
    "output_list=lookup_words(output, vocab=trg_vocab_set) + [\"xx\"]+[\"</s>\"]\n",
    "print(\"src_list:\",src_list)\n",
    "print(\"output:\",output_list)\n",
    "\n",
    "pred_att = attn_seq2seq.decoder.alphas.cpu().numpy().T[:len(output_list)]\n",
    "print(len(pred_att))\n",
    "print(pred_att)\n",
    "#print(\"size\",src_ids,\" \",trg_ids,\" \", output.size())\n",
    "#print(\"attention:\",np.concatenate(attention_scores, axis=1))\n",
    "attn=np.concatenate(attention_scores, axis=1)\n",
    "plot_heatmap(src_list,output_list,pred_att)\n",
    "\"\"\""
   ]
  },
  {
   "cell_type": "code",
   "execution_count": 0,
   "metadata": {
    "colab": {
     "base_uri": "https://localhost:8080/",
     "height": 297
    },
    "colab_type": "code",
    "executionInfo": {
     "elapsed": 1391,
     "status": "ok",
     "timestamp": 1587806794814,
     "user": {
      "displayName": "ByeongJo Kong",
      "photoUrl": "https://lh3.googleusercontent.com/a-/AOh14GjB3OJt2FV1VBgbxRHjhh6mK4NBkVW9ONJVSMVJ=s64",
      "userId": "10931837966081205326"
     },
     "user_tz": 240
    },
    "id": "4475XOvcLIgg",
    "outputId": "cf8e89c2-0e9e-4b4c-eebd-9b1f0f482bca"
   },
   "outputs": [
    {
     "data": {
      "image/png": "[encoded data removed]",
      "text/plain": [
       "<Figure size 432x288 with 1 Axes>"
      ]
     },
     "metadata": {
      "needs_background": "light",
      "tags": []
     },
     "output_type": "display_data"
    }
   ],
   "source": [
    "import numpy as np\n",
    "import matplotlib\n",
    "import matplotlib.pyplot as plt\n",
    "# sphinx_gallery_thumbnail_number = 2\n",
    "\n",
    "\n",
    "src_ids, src_lengths, trg_ids, _ = next(iter(map_loader))\n",
    "max_len=MAX_SENT_LENGTH_PLUS_SOS_EOS\n",
    "model=attn_seq2seq\n",
    "src_ids_origin=src_ids\n",
    "print(\"src_ids\",src_ids)\n",
    "print(\"length\",src_lengths)\n",
    "print(\"trg_ids\",trg_ids)\n",
    "\n",
    "with torch.no_grad():\n",
    "  src_mask = (src_ids != PAD_INDEX).unsqueeze(-2)\n",
    "  encoder_hiddens, encoder_finals = attn_seq2seq.encode(src_ids.to(device), src_lengths)\n",
    "  prev_y = torch.ones(1, 1).fill_(SOS_INDEX).type_as(src_ids)\n",
    "  trg_mask = torch.ones_like(prev_y)\n",
    "\n",
    "  output = []\n",
    "  attention_scores = []\n",
    "  hidden = None\n",
    "\n",
    "  for i in range(max_len):\n",
    "    with torch.no_grad():\n",
    "      hidden, outputs = attn_seq2seq.decode(encoder_hiddens, encoder_finals, src_mask.to(device),\n",
    "                                     prev_y.to(device), trg_mask.to(device), hidden)\n",
    "      prob = attn_seq2seq.generator(outputs[:, -1])\n",
    "\n",
    "    _, next_word = torch.max(prob, dim=1)\n",
    "    next_word = next_word.data.item()\n",
    "    output.append(next_word)\n",
    "    prev_y = torch.ones(1, 1).fill_(next_word).type_as(src_ids)\n",
    "    attention_scores.append(attn_seq2seq.decoder.alphas.cpu().numpy())\n",
    "\n",
    "  output = np.array(output)\n",
    "\n",
    "  # Cut off everything starting from </s>.\n",
    "  first_eos = np.where(output == EOS_INDEX)[0]\n",
    "  if len(first_eos) > 0:\n",
    "    output = output[:first_eos[0]]\n",
    "\n",
    "# remove <s>\n",
    "src_ids = src_ids[0, 1:]\n",
    "trg_ids = trg_ids[0, 1:]\n",
    "# remove </s> and <pad>\n",
    "src_ids = src_ids[:np.where(src_ids == EOS_INDEX)[0][0]]\n",
    "trg_ids = trg_ids[:np.where(trg_ids == EOS_INDEX)[0][0]]\n",
    "\n",
    "print(\"Src : \", \" \".join(lookup_words(src_ids, vocab=src_vocab_set)))\n",
    "print(\"Trg : \", \" \".join(lookup_words(trg_ids, vocab=trg_vocab_set)))\n",
    "print(\"Pred: \", \" \".join(lookup_words(output, vocab=trg_vocab_set)))\n",
    "\n",
    "\n",
    "idx = 5\n",
    "src = lookup_words(src_ids, vocab=src_vocab_set) + [\"</s>\"]\n",
    "trg = lookup_words(trg_ids, vocab=trg_vocab_set) + [\"</s>\"]\n",
    "pred = lookup_words(output, vocab=trg_vocab_set).split + [\"xx\"] + [\"</s>\"]\n",
    "\n",
    "\n",
    "\n",
    "vegetables = [\"cucumber\", \"tomato\", \"lettuce\", \"asparagus\",\n",
    "              \"potato\", \"wheat\", \"barley\"]\n",
    "farmers = [\"Farmer Joe\", \"Upland Bros.\", \"Smith Gardening\",\n",
    "           \"Agrifun\", \"Organiculture\", \"BioGoods Ltd.\", \"Cornylee Corp.\"]\n",
    "\n",
    "harvest = np.array([[0.8, 2.4, 2.5, 3.9, 0.0, 4.0, 0.0],\n",
    "                    [2.4, 0.0, 4.0, 1.0, 2.7, 0.0, 0.0],\n",
    "                    [1.1, 2.4, 0.8, 4.3, 1.9, 4.4, 0.0],\n",
    "                    [0.6, 0.0, 0.3, 0.0, 3.1, 0.0, 0.0],\n",
    "                    [0.7, 1.7, 0.6, 2.6, 2.2, 6.2, 0.0],\n",
    "                    [1.3, 1.2, 0.0, 0.0, 0.0, 3.2, 5.1],\n",
    "                    [0.1, 2.0, 0.0, 1.4, 0.0, 1.9, 6.3]])\n",
    "\n",
    "\n",
    "fig, ax = plt.subplots()\n",
    "im = ax.imshow(harvest)\n",
    "\n",
    "# We want to show all ticks...\n",
    "ax.set_xticks(np.arange(len(farmers)))\n",
    "ax.set_yticks(np.arange(len(vegetables)))\n",
    "# ... and label them with the respective list entries\n",
    "ax.set_xticklabels(farmers)\n",
    "ax.set_yticklabels(vegetables)\n",
    "\n",
    "# Rotate the tick labels and set their alignment.\n",
    "plt.setp(ax.get_xticklabels(), rotation=45, ha=\"right\",\n",
    "         rotation_mode=\"anchor\")\n",
    "\n",
    "# Loop over data dimensions and create text annotations.\n",
    "for i in range(len(vegetables)):\n",
    "    for j in range(len(farmers)):\n",
    "        text = ax.text(j, i, harvest[i, j],\n",
    "                       ha=\"center\", va=\"center\", color=\"w\")\n",
    "\n",
    "ax.set_title(\"Harvest of local farmers (in tons/year)\")\n",
    "fig.tight_layout()\n",
    "plt.show()"
   ]
  },
  {
   "cell_type": "code",
   "execution_count": 0,
   "metadata": {
    "colab": {
     "base_uri": "https://localhost:8080/",
     "height": 232
    },
    "colab_type": "code",
    "executionInfo": {
     "elapsed": 407,
     "status": "error",
     "timestamp": 1587792658656,
     "user": {
      "displayName": "ByeongJo Kong",
      "photoUrl": "https://lh3.googleusercontent.com/a-/AOh14GjB3OJt2FV1VBgbxRHjhh6mK4NBkVW9ONJVSMVJ=s64",
      "userId": "10931837966081205326"
     },
     "user_tz": 240
    },
    "id": "78PgWSbcxmCd",
    "outputId": "0593486b-fad8-43de-e8ed-840ea8462d58"
   },
   "outputs": [
    {
     "ename": "NameError",
     "evalue": "ignored",
     "output_type": "error",
     "traceback": [
      "\u001b[0;31m---------------------------------------------------------------------------\u001b[0m",
      "\u001b[0;31mNameError\u001b[0m                                 Traceback (most recent call last)",
      "\u001b[0;32m<ipython-input-4-7c589ca550e0>\u001b[0m in \u001b[0;36m<module>\u001b[0;34m()\u001b[0m\n\u001b[1;32m     14\u001b[0m \u001b[0;34m\u001b[0m\u001b[0m\n\u001b[1;32m     15\u001b[0m \u001b[0midx\u001b[0m\u001b[0;34m=\u001b[0m\u001b[0;36m5\u001b[0m\u001b[0;34m\u001b[0m\u001b[0;34m\u001b[0m\u001b[0m\n\u001b[0;32m---> 16\u001b[0;31m \u001b[0msrc\u001b[0m\u001b[0;34m=\u001b[0m\u001b[0mvalid_data\u001b[0m\u001b[0;34m[\u001b[0m\u001b[0midx\u001b[0m\u001b[0;34m]\u001b[0m\u001b[0;34m.\u001b[0m\u001b[0msrc\u001b[0m\u001b[0;34m+\u001b[0m\u001b[0;34m[\u001b[0m\u001b[0;34m\"</s>\"\u001b[0m\u001b[0;34m]\u001b[0m\u001b[0;34m\u001b[0m\u001b[0;34m\u001b[0m\u001b[0m\n\u001b[0m\u001b[1;32m     17\u001b[0m \u001b[0mtrg\u001b[0m\u001b[0;34m=\u001b[0m\u001b[0mvalid_data\u001b[0m\u001b[0;34m[\u001b[0m\u001b[0midx\u001b[0m\u001b[0;34m]\u001b[0m\u001b[0;34m.\u001b[0m\u001b[0mtrg\u001b[0m\u001b[0;34m+\u001b[0m\u001b[0;34m[\u001b[0m\u001b[0;34m\"</s>\"\u001b[0m\u001b[0;34m]\u001b[0m\u001b[0;34m\u001b[0m\u001b[0;34m\u001b[0m\u001b[0m\n\u001b[1;32m     18\u001b[0m \u001b[0mpred\u001b[0m\u001b[0;34m=\u001b[0m\u001b[0mhypotheses\u001b[0m\u001b[0;34m[\u001b[0m\u001b[0midx\u001b[0m\u001b[0;34m]\u001b[0m\u001b[0;34m.\u001b[0m\u001b[0msplit\u001b[0m\u001b[0;34m(\u001b[0m\u001b[0;34m)\u001b[0m\u001b[0;34m+\u001b[0m\u001b[0;34m[\u001b[0m\u001b[0;34m\"</s>\"\u001b[0m\u001b[0;34m]\u001b[0m\u001b[0;34m\u001b[0m\u001b[0;34m\u001b[0m\u001b[0m\n",
      "\u001b[0;31mNameError\u001b[0m: name 'valid_data' is not defined"
     ]
    }
   ],
   "source": [
    "\n",
    "\n",
    "def plot_heatmap(src, trg, scores):\n",
    "  fig, ax = plt.subplots()\n",
    "  heatmap = ax.pcolor(scores, cmap='viridis')\n",
    "  \n",
    "  ax.set_xticklabels(trg, minor=False, rotation='vertical')\n",
    "  ax.set_yticklabels(src, minor=False)\n",
    "  \n",
    "  ax.xaxis.tick_top()\n",
    "  ax.set_xticks(np.arange(scores.shape[1]) + 0.5, minor=False)\n",
    "  ax.set_yticks(np.arange(scores.shape[0]) + 0.5, minor=False)\n",
    "  ax.invert_yaxis()\n",
    "  \n",
    "  plt.colorbar(heatmap)\n",
    "  plt.show()\n",
    "\n",
    "\"\"\"\n",
    "def attn_visual(src, trg, scores):\n",
    "  fig, ax = plt.subplots()\n",
    "  attn_map=ax.pcolor(scores,cmap='viridis')\n",
    "  ax.set_xticklabels(trg,minor=False, rotation='vertical')\n",
    "  ax.set_yticklabels(src,minor=False)\n",
    "\n",
    "  ax.xaxis.tick_top()\n",
    "  ax.set_xticklabels(np.arrange(scores.shape[1])+0.5, minor=False)\n",
    "  ax.set_yticklabels(np.arrange(scores.shape[0])+0.5, minor=False)\n",
    "  ax.invert_yaxis()\n",
    "\n",
    "  plt.colorbar(attn_map)\n",
    "  plt.show()\n",
    "\n",
    "\n",
    "idx=5\n",
    "src=valid_data[idx].src+[\"</s>\"]\n",
    "trg=valid_data[idx].trg+[\"</s>\"]\n",
    "pred=hypotheses[idx].split()+[\"</s>\"]\n",
    "pred_attn=alphas[idx][0].T[:,:len(pred)]\n",
    "print(\"src\",src)\n",
    "print(\"ref\",trg)\n",
    "print(\"pred\",pred)\n",
    "attn_visual(src,pred,pred_attn)\n",
    "\"\"\"\n"
   ]
  },
  {
   "cell_type": "code",
   "execution_count": 0,
   "metadata": {
    "colab": {
     "base_uri": "https://localhost:8080/",
     "height": 164
    },
    "colab_type": "code",
    "executionInfo": {
     "elapsed": 463,
     "status": "error",
     "timestamp": 1587792631605,
     "user": {
      "displayName": "ByeongJo Kong",
      "photoUrl": "https://lh3.googleusercontent.com/a-/AOh14GjB3OJt2FV1VBgbxRHjhh6mK4NBkVW9ONJVSMVJ=s64",
      "userId": "10931837966081205326"
     },
     "user_tz": 240
    },
    "id": "LiJMHzZ80G62",
    "outputId": "908f49c8-3991-478b-f357-af2e0745f624"
   },
   "outputs": [
    {
     "ename": "NameError",
     "evalue": "ignored",
     "output_type": "error",
     "traceback": [
      "\u001b[0;31m---------------------------------------------------------------------------\u001b[0m",
      "\u001b[0;31mNameError\u001b[0m                                 Traceback (most recent call last)",
      "\u001b[0;32m<ipython-input-2-78070b20a540>\u001b[0m in \u001b[0;36m<module>\u001b[0;34m()\u001b[0m\n\u001b[0;32m----> 1\u001b[0;31m \u001b[0mnext\u001b[0m\u001b[0;34m(\u001b[0m\u001b[0miter\u001b[0m\u001b[0;34m(\u001b[0m\u001b[0mval_data\u001b[0m\u001b[0;34m)\u001b[0m\u001b[0;34m)\u001b[0m\u001b[0;34m\u001b[0m\u001b[0;34m\u001b[0m\u001b[0m\n\u001b[0m",
      "\u001b[0;31mNameError\u001b[0m: name 'val_data' is not defined"
     ]
    }
   ],
   "source": [
    "next(iter(val_data))"
   ]
  },
  {
   "cell_type": "markdown",
   "metadata": {
    "colab_type": "text",
    "id": "GbOgwJw_CkCW"
   },
   "source": [
    "## **Part 3: Lab writeup**\n",
    "\n",
    "Your lab report should discuss any implementation details that were important to filling out the code above. Then, use the code to set up experiments that answer the following questions:\n",
    "\n",
    "1. In this lab we use greedy search for decoding, that is, always taking the most probable word at current timestep as prediction. Describe an alternative decoding method that might work better than greedy search. You don't have to implement it.\n",
    "\n",
    "2. Pick some samples from dev or test set and visualize their attention maps. Discuss your findings. Hint: compute the attention scores on the input words for each timestep during decoding.\n",
    "\n",
    "3. Compare the performance of seq2seq with and without attention on sentences of different lengths. You can set some length intervals (e.g., 1-10, 11-20, 21-30, 31-40, 41-50) and compare the two models' performance within each length interval. Discuss your findings.\n",
    "\n",
    "4. Try to improve your BLEU score. For example, try stacking more RNN layers, switching cell types, or applying bi-direction to encoder. Describe what you try, even if they don't show improvement. Hints:\n",
    "  * TA's preliminary implemtation of seq2seq with attention model achieves around 16. You don't have to surpass it (although it's pretty simple to do so)--this number is just to give you some sense of what a baseline should get.\n",
    "  * Training on the entire training set takes some time. So tune your hyperparameters on a smaller training set (you can do so by changing `sampling` when creating the data loader)."
   ]
  }
 ],
 "metadata": {
  "accelerator": "GPU",
  "colab": {
   "collapsed_sections": [
    "qf8Oc9a_ocC_"
   ],
   "machine_shape": "hm",
   "name": "2b_Seq2Seq.ipynb",
   "provenance": []
  },
  "kernelspec": {
   "display_name": "Python 3",
   "language": "python",
   "name": "python3"
  },
  "language_info": {
   "codemirror_mode": {
    "name": "ipython",
    "version": 3
   },
   "file_extension": ".py",
   "mimetype": "text/x-python",
   "name": "python",
   "nbconvert_exporter": "python",
   "pygments_lexer": "ipython3",
   "version": "3.7.3"
  }
 },
 "nbformat": 4,
 "nbformat_minor": 1
}
